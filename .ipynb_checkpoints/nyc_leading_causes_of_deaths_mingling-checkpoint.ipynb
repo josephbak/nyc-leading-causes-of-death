{
 "cells": [
  {
   "cell_type": "code",
   "execution_count": 1,
   "id": "cc3488e4-9b7c-4e0b-8106-fe00aa062b94",
   "metadata": {},
   "outputs": [],
   "source": [
    "import pandas as pd"
   ]
  },
  {
   "cell_type": "code",
   "execution_count": 2,
   "id": "508b608e-ef82-4c9b-842e-39f81540d9a9",
   "metadata": {},
   "outputs": [],
   "source": [
    "df = pd.read_csv('New_York_City_Leading_Causes_of_Death.csv')"
   ]
  },
  {
   "cell_type": "code",
   "execution_count": 3,
   "id": "cefaa011-705e-4e5e-839e-58948a0c8539",
   "metadata": {},
   "outputs": [
    {
     "name": "stdout",
     "output_type": "stream",
     "text": [
      "      Year                                      Leading Cause   Sex  \\\n",
      "0     2019     Diseases of Heart (I00-I09, I11, I13, I20-I51)  Male   \n",
      "1     2019              Malignant Neoplasms (Cancer: C00-C97)  Male   \n",
      "2     2019  Mental and Behavioral Disorders due to Acciden...  Male   \n",
      "3     2019                        Diabetes Mellitus (E10-E14)  Male   \n",
      "4     2019            Influenza (Flu) and Pneumonia (J09-J18)  Male   \n",
      "...    ...                                                ...   ...   \n",
      "1267  2008            Influenza (Flu) and Pneumonia (J09-J18)     M   \n",
      "1268  2007     Diseases of Heart (I00-I09, I11, I13, I20-I51)     M   \n",
      "1269  2008              Malignant Neoplasms (Cancer: C00-C97)     M   \n",
      "1270  2014                        Diabetes Mellitus (E10-E14)     F   \n",
      "1271  2009  Accidents Except Drug Posioning (V01-X39, X43,...     M   \n",
      "\n",
      "                  Race Ethnicity Deaths   Death Rate Age Adjusted Death Rate  \n",
      "0                       Hispanic   1603  136.8029917              176.783287  \n",
      "1                       Hispanic   1164   99.3379179             121.5817693  \n",
      "2                       Hispanic    423  36.09960418             35.70789583  \n",
      "3                       Hispanic    245   20.9087542             25.40934387  \n",
      "4                       Hispanic    182   15.5322174             19.85821025  \n",
      "...                          ...    ...          ...                     ...  \n",
      "1267          Not Stated/Unknown     11            .                       .  \n",
      "1268          Not Stated/Unknown     86            .                       .  \n",
      "1269          Black Non-Hispanic   1464        172.4                   220.4  \n",
      "1270       Other Race/ Ethnicity     11            .                       .  \n",
      "1271  Asian and Pacific Islander     55         10.8                    12.3  \n",
      "\n",
      "[1272 rows x 7 columns]\n"
     ]
    }
   ],
   "source": [
    "print(df)"
   ]
  },
  {
   "cell_type": "code",
   "execution_count": 4,
   "id": "25b416e0-7bab-47c0-bc96-ee661d6681d5",
   "metadata": {},
   "outputs": [
    {
     "data": {
      "text/html": [
       "<div>\n",
       "<style scoped>\n",
       "    .dataframe tbody tr th:only-of-type {\n",
       "        vertical-align: middle;\n",
       "    }\n",
       "\n",
       "    .dataframe tbody tr th {\n",
       "        vertical-align: top;\n",
       "    }\n",
       "\n",
       "    .dataframe thead th {\n",
       "        text-align: right;\n",
       "    }\n",
       "</style>\n",
       "<table border=\"1\" class=\"dataframe\">\n",
       "  <thead>\n",
       "    <tr style=\"text-align: right;\">\n",
       "      <th></th>\n",
       "      <th>Year</th>\n",
       "      <th>Leading Cause</th>\n",
       "      <th>Sex</th>\n",
       "      <th>Race Ethnicity</th>\n",
       "      <th>Deaths</th>\n",
       "      <th>Death Rate</th>\n",
       "      <th>Age Adjusted Death Rate</th>\n",
       "    </tr>\n",
       "  </thead>\n",
       "  <tbody>\n",
       "    <tr>\n",
       "      <th>0</th>\n",
       "      <td>2019</td>\n",
       "      <td>Diseases of Heart (I00-I09, I11, I13, I20-I51)</td>\n",
       "      <td>Male</td>\n",
       "      <td>Hispanic</td>\n",
       "      <td>1603</td>\n",
       "      <td>136.8029917</td>\n",
       "      <td>176.783287</td>\n",
       "    </tr>\n",
       "    <tr>\n",
       "      <th>1</th>\n",
       "      <td>2019</td>\n",
       "      <td>Malignant Neoplasms (Cancer: C00-C97)</td>\n",
       "      <td>Male</td>\n",
       "      <td>Hispanic</td>\n",
       "      <td>1164</td>\n",
       "      <td>99.3379179</td>\n",
       "      <td>121.5817693</td>\n",
       "    </tr>\n",
       "    <tr>\n",
       "      <th>2</th>\n",
       "      <td>2019</td>\n",
       "      <td>Mental and Behavioral Disorders due to Acciden...</td>\n",
       "      <td>Male</td>\n",
       "      <td>Hispanic</td>\n",
       "      <td>423</td>\n",
       "      <td>36.09960418</td>\n",
       "      <td>35.70789583</td>\n",
       "    </tr>\n",
       "    <tr>\n",
       "      <th>3</th>\n",
       "      <td>2019</td>\n",
       "      <td>Diabetes Mellitus (E10-E14)</td>\n",
       "      <td>Male</td>\n",
       "      <td>Hispanic</td>\n",
       "      <td>245</td>\n",
       "      <td>20.9087542</td>\n",
       "      <td>25.40934387</td>\n",
       "    </tr>\n",
       "    <tr>\n",
       "      <th>4</th>\n",
       "      <td>2019</td>\n",
       "      <td>Influenza (Flu) and Pneumonia (J09-J18)</td>\n",
       "      <td>Male</td>\n",
       "      <td>Hispanic</td>\n",
       "      <td>182</td>\n",
       "      <td>15.5322174</td>\n",
       "      <td>19.85821025</td>\n",
       "    </tr>\n",
       "  </tbody>\n",
       "</table>\n",
       "</div>"
      ],
      "text/plain": [
       "   Year                                      Leading Cause   Sex  \\\n",
       "0  2019     Diseases of Heart (I00-I09, I11, I13, I20-I51)  Male   \n",
       "1  2019              Malignant Neoplasms (Cancer: C00-C97)  Male   \n",
       "2  2019  Mental and Behavioral Disorders due to Acciden...  Male   \n",
       "3  2019                        Diabetes Mellitus (E10-E14)  Male   \n",
       "4  2019            Influenza (Flu) and Pneumonia (J09-J18)  Male   \n",
       "\n",
       "  Race Ethnicity Deaths   Death Rate Age Adjusted Death Rate  \n",
       "0       Hispanic   1603  136.8029917              176.783287  \n",
       "1       Hispanic   1164   99.3379179             121.5817693  \n",
       "2       Hispanic    423  36.09960418             35.70789583  \n",
       "3       Hispanic    245   20.9087542             25.40934387  \n",
       "4       Hispanic    182   15.5322174             19.85821025  "
      ]
     },
     "execution_count": 4,
     "metadata": {},
     "output_type": "execute_result"
    }
   ],
   "source": [
    "df.head()"
   ]
  },
  {
   "cell_type": "code",
   "execution_count": 23,
   "id": "5599cbf2-8fe9-465f-aa75-8e7c47d2dadc",
   "metadata": {},
   "outputs": [
    {
     "data": {
      "text/plain": [
       "Diseases of Heart (I00-I09, I11, I13, I20-I51)                                                                                       110\n",
       "Influenza (Flu) and Pneumonia (J09-J18)                                                                                              110\n",
       "All Other Causes                                                                                                                     110\n",
       "Malignant Neoplasms (Cancer: C00-C97)                                                                                                110\n",
       "Diabetes Mellitus (E10-E14)                                                                                                          106\n",
       "Cerebrovascular Disease (Stroke: I60-I69)                                                                                            103\n",
       "Chronic Lower Respiratory Diseases (J40-J47)                                                                                         100\n",
       "Essential Hypertension and Renal Diseases (I10, I12)                                                                                  88\n",
       "Accidents Except Drug Posioning (V01-X39, X43, X45-X59, Y85-Y86)                                                                      80\n",
       "Mental and Behavioral Disorders due to Accidental Poisoning and Other Psychoactive Substance Use (F11-F16, F18-F19, X40-X42, X44)     51\n",
       "Human Immunodeficiency Virus Disease (HIV: B20-B24)                                                                                   44\n",
       "Alzheimer's Disease (G30)                                                                                                             40\n",
       "Intentional Self-Harm (Suicide: X60-X84, Y87.0)                                                                                       38\n",
       "Chronic Liver Disease and Cirrhosis (K70, K73)                                                                                        29\n",
       "Certain Conditions originating in the Perinatal Period (P00-P96)                                                                      28\n",
       "Assault (Homicide: Y87.1, X85-Y09)                                                                                                    20\n",
       "Nephritis, Nephrotic Syndrome and Nephrisis (N00-N07, N17-N19, N25-N27)                                                               19\n",
       "Septicemia (A40-A41)                                                                                                                  16\n",
       "Accidents Except Drug Poisoning (V01-X39, X43, X45-X59, Y85-Y86)                                                                      13\n",
       "Congenital Malformations, Deformations, and Chromosomal Abnormalities (Q00-Q99)                                                       10\n",
       "Intentional Self-Harm (Suicide: U03, X60-X84, Y87.0)                                                                                   7\n",
       "Insitu or Benign / Uncertain Neoplasms (D00-D48)                                                                                       6\n",
       "Viral Hepatitis (B15-B19)                                                                                                              6\n",
       "Mental and Behavioral Disorders due to Use of Alcohol (F10)                                                                            6\n",
       "Aortic Aneurysm and Dissection (I71)                                                                                                   4\n",
       "Assault (Homicide: U01-U02, Y87.1, X85-Y09)                                                                                            3\n",
       "Chronic Liver Disease and Cirrhosis (K70, K73-K74)                                                                                     3\n",
       "Atherosclerosis (I70)                                                                                                                  3\n",
       "Cholelithiasis and Disorders of Gallbladder (K80-K82)                                                                                  2\n",
       "Complications of Medical and Surgical Care (Y40-Y84, Y88)                                                                              2\n",
       "Parkinson's Disease (G20)                                                                                                              2\n",
       "Anemias (D50-D64)                                                                                                                      1\n",
       "Peptic Ulcer (K25-K28)                                                                                                                 1\n",
       "Tuberculosis (A16-A19)                                                                                                                 1\n",
       "Name: Leading Cause, dtype: int64"
      ]
     },
     "execution_count": 23,
     "metadata": {},
     "output_type": "execute_result"
    }
   ],
   "source": [
    "df['Leading Cause'].value_counts()"
   ]
  },
  {
   "cell_type": "code",
   "execution_count": 16,
   "id": "bf8c3134-886c-4f33-9bf7-132f9ee15661",
   "metadata": {},
   "outputs": [
    {
     "data": {
      "text/plain": [
       "F         554\n",
       "M         540\n",
       "Female     90\n",
       "Male       88\n",
       "Name: Sex, dtype: int64"
      ]
     },
     "execution_count": 16,
     "metadata": {},
     "output_type": "execute_result"
    }
   ],
   "source": [
    "df['Sex'].value_counts()"
   ]
  },
  {
   "cell_type": "code",
   "execution_count": 17,
   "id": "233f02a4-3328-48f0-bb68-1621a53007c1",
   "metadata": {},
   "outputs": [],
   "source": [
    "df['Sex'] = df['Sex'].replace({'M':'Male', 'F':'Female'})"
   ]
  },
  {
   "cell_type": "code",
   "execution_count": 18,
   "id": "74bacf82-71fb-49aa-b594-49322e1cb8f8",
   "metadata": {},
   "outputs": [
    {
     "data": {
      "text/plain": [
       "Female    644\n",
       "Male      628\n",
       "Name: Sex, dtype: int64"
      ]
     },
     "execution_count": 18,
     "metadata": {},
     "output_type": "execute_result"
    }
   ],
   "source": [
    "df['Sex'].value_counts()"
   ]
  },
  {
   "cell_type": "code",
   "execution_count": 19,
   "id": "82d2aa1b-60bc-4949-ad28-8d5cfd58ce87",
   "metadata": {},
   "outputs": [
    {
     "data": {
      "text/plain": [
       "0         Male\n",
       "1         Male\n",
       "2         Male\n",
       "3         Male\n",
       "4         Male\n",
       "         ...  \n",
       "1267      Male\n",
       "1268      Male\n",
       "1269      Male\n",
       "1270    Female\n",
       "1271      Male\n",
       "Name: Sex, Length: 1272, dtype: object"
      ]
     },
     "execution_count": 19,
     "metadata": {},
     "output_type": "execute_result"
    }
   ],
   "source": [
    "df['Sex']"
   ]
  },
  {
   "cell_type": "code",
   "execution_count": 20,
   "id": "939082c2-546d-4e76-b09e-851357c52cf6",
   "metadata": {},
   "outputs": [
    {
     "data": {
      "text/plain": [
       "Other Race/ Ethnicity         253\n",
       "Not Stated/Unknown            223\n",
       "Hispanic                      199\n",
       "Asian and Pacific Islander    199\n",
       "Black Non-Hispanic            178\n",
       "White Non-Hispanic            176\n",
       "Non-Hispanic White             22\n",
       "Non-Hispanic Black             22\n",
       "Name: Race Ethnicity, dtype: int64"
      ]
     },
     "execution_count": 20,
     "metadata": {},
     "output_type": "execute_result"
    }
   ],
   "source": [
    "df['Race Ethnicity'].value_counts()"
   ]
  },
  {
   "cell_type": "code",
   "execution_count": 21,
   "id": "2ca447e8-9019-4450-8931-33f43067facf",
   "metadata": {},
   "outputs": [],
   "source": [
    "df['Race Ethnicity'] = df['Race Ethnicity'].replace({'Non-Hispanic White':'White Non-Hispanic', 'Non-Hispanic Black':'Black Non-Hispanic'})"
   ]
  },
  {
   "cell_type": "code",
   "execution_count": 22,
   "id": "e51b612e-e62d-435b-9a9f-ee5d2735ccaf",
   "metadata": {},
   "outputs": [
    {
     "data": {
      "text/plain": [
       "Other Race/ Ethnicity         253\n",
       "Not Stated/Unknown            223\n",
       "Black Non-Hispanic            200\n",
       "Hispanic                      199\n",
       "Asian and Pacific Islander    199\n",
       "White Non-Hispanic            198\n",
       "Name: Race Ethnicity, dtype: int64"
      ]
     },
     "execution_count": 22,
     "metadata": {},
     "output_type": "execute_result"
    }
   ],
   "source": [
    "df['Race Ethnicity'].value_counts()"
   ]
  },
  {
   "cell_type": "code",
   "execution_count": 28,
   "id": "e4021616-67a8-42f3-9e1a-71f895c83c7f",
   "metadata": {},
   "outputs": [
    {
     "data": {
      "text/plain": [
       "2019    178\n",
       "2007    141\n",
       "2011    141\n",
       "2010    138\n",
       "2014    136\n",
       "2008    136\n",
       "2009    135\n",
       "2012    134\n",
       "2013    133\n",
       "Name: Year, dtype: int64"
      ]
     },
     "execution_count": 28,
     "metadata": {},
     "output_type": "execute_result"
    }
   ],
   "source": [
    "df['Year'].value_counts()"
   ]
  },
  {
   "cell_type": "code",
   "execution_count": 31,
   "id": "49ebe2ab-0e4f-4a5a-b661-36504bad1703",
   "metadata": {},
   "outputs": [
    {
     "data": {
      "text/html": [
       "<div>\n",
       "<style scoped>\n",
       "    .dataframe tbody tr th:only-of-type {\n",
       "        vertical-align: middle;\n",
       "    }\n",
       "\n",
       "    .dataframe tbody tr th {\n",
       "        vertical-align: top;\n",
       "    }\n",
       "\n",
       "    .dataframe thead th {\n",
       "        text-align: right;\n",
       "    }\n",
       "</style>\n",
       "<table border=\"1\" class=\"dataframe\">\n",
       "  <thead>\n",
       "    <tr style=\"text-align: right;\">\n",
       "      <th></th>\n",
       "      <th>Year</th>\n",
       "      <th>Leading Cause</th>\n",
       "      <th>Sex</th>\n",
       "      <th>Race Ethnicity</th>\n",
       "      <th>Deaths</th>\n",
       "      <th>Death Rate</th>\n",
       "      <th>Age Adjusted Death Rate</th>\n",
       "    </tr>\n",
       "  </thead>\n",
       "  <tbody>\n",
       "    <tr>\n",
       "      <th>0</th>\n",
       "      <td>2019</td>\n",
       "      <td>Diseases of Heart (I00-I09, I11, I13, I20-I51)</td>\n",
       "      <td>Male</td>\n",
       "      <td>Hispanic</td>\n",
       "      <td>1603</td>\n",
       "      <td>136.8029917</td>\n",
       "      <td>176.783287</td>\n",
       "    </tr>\n",
       "    <tr>\n",
       "      <th>1</th>\n",
       "      <td>2019</td>\n",
       "      <td>Malignant Neoplasms (Cancer: C00-C97)</td>\n",
       "      <td>Male</td>\n",
       "      <td>Hispanic</td>\n",
       "      <td>1164</td>\n",
       "      <td>99.3379179</td>\n",
       "      <td>121.5817693</td>\n",
       "    </tr>\n",
       "    <tr>\n",
       "      <th>2</th>\n",
       "      <td>2019</td>\n",
       "      <td>Mental and Behavioral Disorders due to Acciden...</td>\n",
       "      <td>Male</td>\n",
       "      <td>Hispanic</td>\n",
       "      <td>423</td>\n",
       "      <td>36.09960418</td>\n",
       "      <td>35.70789583</td>\n",
       "    </tr>\n",
       "    <tr>\n",
       "      <th>3</th>\n",
       "      <td>2019</td>\n",
       "      <td>Diabetes Mellitus (E10-E14)</td>\n",
       "      <td>Male</td>\n",
       "      <td>Hispanic</td>\n",
       "      <td>245</td>\n",
       "      <td>20.9087542</td>\n",
       "      <td>25.40934387</td>\n",
       "    </tr>\n",
       "    <tr>\n",
       "      <th>4</th>\n",
       "      <td>2019</td>\n",
       "      <td>Influenza (Flu) and Pneumonia (J09-J18)</td>\n",
       "      <td>Male</td>\n",
       "      <td>Hispanic</td>\n",
       "      <td>182</td>\n",
       "      <td>15.5322174</td>\n",
       "      <td>19.85821025</td>\n",
       "    </tr>\n",
       "  </tbody>\n",
       "</table>\n",
       "</div>"
      ],
      "text/plain": [
       "   Year                                      Leading Cause   Sex  \\\n",
       "0  2019     Diseases of Heart (I00-I09, I11, I13, I20-I51)  Male   \n",
       "1  2019              Malignant Neoplasms (Cancer: C00-C97)  Male   \n",
       "2  2019  Mental and Behavioral Disorders due to Acciden...  Male   \n",
       "3  2019                        Diabetes Mellitus (E10-E14)  Male   \n",
       "4  2019            Influenza (Flu) and Pneumonia (J09-J18)  Male   \n",
       "\n",
       "  Race Ethnicity Deaths   Death Rate Age Adjusted Death Rate  \n",
       "0       Hispanic   1603  136.8029917              176.783287  \n",
       "1       Hispanic   1164   99.3379179             121.5817693  \n",
       "2       Hispanic    423  36.09960418             35.70789583  \n",
       "3       Hispanic    245   20.9087542             25.40934387  \n",
       "4       Hispanic    182   15.5322174             19.85821025  "
      ]
     },
     "execution_count": 31,
     "metadata": {},
     "output_type": "execute_result"
    }
   ],
   "source": [
    "df.head()"
   ]
  },
  {
   "cell_type": "code",
   "execution_count": 32,
   "id": "a30b1dae-a771-4d65-858b-1a7ee1f78171",
   "metadata": {},
   "outputs": [],
   "source": [
    "df = df.drop(labels=['Death Rate', 'Age Adjusted Death Rate'], axis = 1)"
   ]
  },
  {
   "cell_type": "code",
   "execution_count": 33,
   "id": "4c288334-41ce-4263-99d9-7e2d4604b8e1",
   "metadata": {},
   "outputs": [
    {
     "data": {
      "text/html": [
       "<div>\n",
       "<style scoped>\n",
       "    .dataframe tbody tr th:only-of-type {\n",
       "        vertical-align: middle;\n",
       "    }\n",
       "\n",
       "    .dataframe tbody tr th {\n",
       "        vertical-align: top;\n",
       "    }\n",
       "\n",
       "    .dataframe thead th {\n",
       "        text-align: right;\n",
       "    }\n",
       "</style>\n",
       "<table border=\"1\" class=\"dataframe\">\n",
       "  <thead>\n",
       "    <tr style=\"text-align: right;\">\n",
       "      <th></th>\n",
       "      <th>Year</th>\n",
       "      <th>Leading Cause</th>\n",
       "      <th>Sex</th>\n",
       "      <th>Race Ethnicity</th>\n",
       "      <th>Deaths</th>\n",
       "    </tr>\n",
       "  </thead>\n",
       "  <tbody>\n",
       "    <tr>\n",
       "      <th>0</th>\n",
       "      <td>2019</td>\n",
       "      <td>Diseases of Heart (I00-I09, I11, I13, I20-I51)</td>\n",
       "      <td>Male</td>\n",
       "      <td>Hispanic</td>\n",
       "      <td>1603</td>\n",
       "    </tr>\n",
       "    <tr>\n",
       "      <th>1</th>\n",
       "      <td>2019</td>\n",
       "      <td>Malignant Neoplasms (Cancer: C00-C97)</td>\n",
       "      <td>Male</td>\n",
       "      <td>Hispanic</td>\n",
       "      <td>1164</td>\n",
       "    </tr>\n",
       "    <tr>\n",
       "      <th>2</th>\n",
       "      <td>2019</td>\n",
       "      <td>Mental and Behavioral Disorders due to Acciden...</td>\n",
       "      <td>Male</td>\n",
       "      <td>Hispanic</td>\n",
       "      <td>423</td>\n",
       "    </tr>\n",
       "    <tr>\n",
       "      <th>3</th>\n",
       "      <td>2019</td>\n",
       "      <td>Diabetes Mellitus (E10-E14)</td>\n",
       "      <td>Male</td>\n",
       "      <td>Hispanic</td>\n",
       "      <td>245</td>\n",
       "    </tr>\n",
       "    <tr>\n",
       "      <th>4</th>\n",
       "      <td>2019</td>\n",
       "      <td>Influenza (Flu) and Pneumonia (J09-J18)</td>\n",
       "      <td>Male</td>\n",
       "      <td>Hispanic</td>\n",
       "      <td>182</td>\n",
       "    </tr>\n",
       "  </tbody>\n",
       "</table>\n",
       "</div>"
      ],
      "text/plain": [
       "   Year                                      Leading Cause   Sex  \\\n",
       "0  2019     Diseases of Heart (I00-I09, I11, I13, I20-I51)  Male   \n",
       "1  2019              Malignant Neoplasms (Cancer: C00-C97)  Male   \n",
       "2  2019  Mental and Behavioral Disorders due to Acciden...  Male   \n",
       "3  2019                        Diabetes Mellitus (E10-E14)  Male   \n",
       "4  2019            Influenza (Flu) and Pneumonia (J09-J18)  Male   \n",
       "\n",
       "  Race Ethnicity Deaths  \n",
       "0       Hispanic   1603  \n",
       "1       Hispanic   1164  \n",
       "2       Hispanic    423  \n",
       "3       Hispanic    245  \n",
       "4       Hispanic    182  "
      ]
     },
     "execution_count": 33,
     "metadata": {},
     "output_type": "execute_result"
    }
   ],
   "source": [
    "df.head()"
   ]
  },
  {
   "cell_type": "code",
   "execution_count": null,
   "id": "c03d547b-267d-4408-94c2-f972702a08e8",
   "metadata": {},
   "outputs": [],
   "source": []
  }
 ],
 "metadata": {
  "kernelspec": {
   "display_name": "Python 3 (ipykernel)",
   "language": "python",
   "name": "python3"
  },
  "language_info": {
   "codemirror_mode": {
    "name": "ipython",
    "version": 3
   },
   "file_extension": ".py",
   "mimetype": "text/x-python",
   "name": "python",
   "nbconvert_exporter": "python",
   "pygments_lexer": "ipython3",
   "version": "3.9.12"
  }
 },
 "nbformat": 4,
 "nbformat_minor": 5
}
