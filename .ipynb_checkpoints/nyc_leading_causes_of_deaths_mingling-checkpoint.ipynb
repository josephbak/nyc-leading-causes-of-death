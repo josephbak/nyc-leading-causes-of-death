{
 "cells": [
  {
   "cell_type": "code",
   "execution_count": 1,
   "id": "cc3488e4-9b7c-4e0b-8106-fe00aa062b94",
   "metadata": {},
   "outputs": [],
   "source": [
    "import pandas as pd"
   ]
  },
  {
   "cell_type": "code",
   "execution_count": 2,
   "id": "508b608e-ef82-4c9b-842e-39f81540d9a9",
   "metadata": {},
   "outputs": [],
   "source": [
    "df = pd.read_csv('New_York_City_Leading_Causes_of_Death.csv')"
   ]
  },
  {
   "cell_type": "code",
   "execution_count": 3,
   "id": "cefaa011-705e-4e5e-839e-58948a0c8539",
   "metadata": {},
   "outputs": [
    {
     "name": "stdout",
     "output_type": "stream",
     "text": [
      "      Year                                      Leading Cause   Sex  \\\n",
      "0     2019     Diseases of Heart (I00-I09, I11, I13, I20-I51)  Male   \n",
      "1     2019              Malignant Neoplasms (Cancer: C00-C97)  Male   \n",
      "2     2019  Mental and Behavioral Disorders due to Acciden...  Male   \n",
      "3     2019                        Diabetes Mellitus (E10-E14)  Male   \n",
      "4     2019            Influenza (Flu) and Pneumonia (J09-J18)  Male   \n",
      "...    ...                                                ...   ...   \n",
      "1267  2008            Influenza (Flu) and Pneumonia (J09-J18)     M   \n",
      "1268  2007     Diseases of Heart (I00-I09, I11, I13, I20-I51)     M   \n",
      "1269  2008              Malignant Neoplasms (Cancer: C00-C97)     M   \n",
      "1270  2014                        Diabetes Mellitus (E10-E14)     F   \n",
      "1271  2009  Accidents Except Drug Posioning (V01-X39, X43,...     M   \n",
      "\n",
      "                  Race Ethnicity Deaths   Death Rate Age Adjusted Death Rate  \n",
      "0                       Hispanic   1603  136.8029917              176.783287  \n",
      "1                       Hispanic   1164   99.3379179             121.5817693  \n",
      "2                       Hispanic    423  36.09960418             35.70789583  \n",
      "3                       Hispanic    245   20.9087542             25.40934387  \n",
      "4                       Hispanic    182   15.5322174             19.85821025  \n",
      "...                          ...    ...          ...                     ...  \n",
      "1267          Not Stated/Unknown     11            .                       .  \n",
      "1268          Not Stated/Unknown     86            .                       .  \n",
      "1269          Black Non-Hispanic   1464        172.4                   220.4  \n",
      "1270       Other Race/ Ethnicity     11            .                       .  \n",
      "1271  Asian and Pacific Islander     55         10.8                    12.3  \n",
      "\n",
      "[1272 rows x 7 columns]\n"
     ]
    }
   ],
   "source": [
    "print(df)"
   ]
  },
  {
   "cell_type": "code",
   "execution_count": 4,
   "id": "25b416e0-7bab-47c0-bc96-ee661d6681d5",
   "metadata": {},
   "outputs": [
    {
     "data": {
      "text/html": [
       "<div>\n",
       "<style scoped>\n",
       "    .dataframe tbody tr th:only-of-type {\n",
       "        vertical-align: middle;\n",
       "    }\n",
       "\n",
       "    .dataframe tbody tr th {\n",
       "        vertical-align: top;\n",
       "    }\n",
       "\n",
       "    .dataframe thead th {\n",
       "        text-align: right;\n",
       "    }\n",
       "</style>\n",
       "<table border=\"1\" class=\"dataframe\">\n",
       "  <thead>\n",
       "    <tr style=\"text-align: right;\">\n",
       "      <th></th>\n",
       "      <th>Year</th>\n",
       "      <th>Leading Cause</th>\n",
       "      <th>Sex</th>\n",
       "      <th>Race Ethnicity</th>\n",
       "      <th>Deaths</th>\n",
       "      <th>Death Rate</th>\n",
       "      <th>Age Adjusted Death Rate</th>\n",
       "    </tr>\n",
       "  </thead>\n",
       "  <tbody>\n",
       "    <tr>\n",
       "      <th>0</th>\n",
       "      <td>2019</td>\n",
       "      <td>Diseases of Heart (I00-I09, I11, I13, I20-I51)</td>\n",
       "      <td>Male</td>\n",
       "      <td>Hispanic</td>\n",
       "      <td>1603</td>\n",
       "      <td>136.8029917</td>\n",
       "      <td>176.783287</td>\n",
       "    </tr>\n",
       "    <tr>\n",
       "      <th>1</th>\n",
       "      <td>2019</td>\n",
       "      <td>Malignant Neoplasms (Cancer: C00-C97)</td>\n",
       "      <td>Male</td>\n",
       "      <td>Hispanic</td>\n",
       "      <td>1164</td>\n",
       "      <td>99.3379179</td>\n",
       "      <td>121.5817693</td>\n",
       "    </tr>\n",
       "    <tr>\n",
       "      <th>2</th>\n",
       "      <td>2019</td>\n",
       "      <td>Mental and Behavioral Disorders due to Acciden...</td>\n",
       "      <td>Male</td>\n",
       "      <td>Hispanic</td>\n",
       "      <td>423</td>\n",
       "      <td>36.09960418</td>\n",
       "      <td>35.70789583</td>\n",
       "    </tr>\n",
       "    <tr>\n",
       "      <th>3</th>\n",
       "      <td>2019</td>\n",
       "      <td>Diabetes Mellitus (E10-E14)</td>\n",
       "      <td>Male</td>\n",
       "      <td>Hispanic</td>\n",
       "      <td>245</td>\n",
       "      <td>20.9087542</td>\n",
       "      <td>25.40934387</td>\n",
       "    </tr>\n",
       "    <tr>\n",
       "      <th>4</th>\n",
       "      <td>2019</td>\n",
       "      <td>Influenza (Flu) and Pneumonia (J09-J18)</td>\n",
       "      <td>Male</td>\n",
       "      <td>Hispanic</td>\n",
       "      <td>182</td>\n",
       "      <td>15.5322174</td>\n",
       "      <td>19.85821025</td>\n",
       "    </tr>\n",
       "  </tbody>\n",
       "</table>\n",
       "</div>"
      ],
      "text/plain": [
       "   Year                                      Leading Cause   Sex  \\\n",
       "0  2019     Diseases of Heart (I00-I09, I11, I13, I20-I51)  Male   \n",
       "1  2019              Malignant Neoplasms (Cancer: C00-C97)  Male   \n",
       "2  2019  Mental and Behavioral Disorders due to Acciden...  Male   \n",
       "3  2019                        Diabetes Mellitus (E10-E14)  Male   \n",
       "4  2019            Influenza (Flu) and Pneumonia (J09-J18)  Male   \n",
       "\n",
       "  Race Ethnicity Deaths   Death Rate Age Adjusted Death Rate  \n",
       "0       Hispanic   1603  136.8029917              176.783287  \n",
       "1       Hispanic   1164   99.3379179             121.5817693  \n",
       "2       Hispanic    423  36.09960418             35.70789583  \n",
       "3       Hispanic    245   20.9087542             25.40934387  \n",
       "4       Hispanic    182   15.5322174             19.85821025  "
      ]
     },
     "execution_count": 4,
     "metadata": {},
     "output_type": "execute_result"
    }
   ],
   "source": [
    "df.head()"
   ]
  },
  {
   "cell_type": "code",
   "execution_count": 5,
   "id": "5599cbf2-8fe9-465f-aa75-8e7c47d2dadc",
   "metadata": {},
   "outputs": [
    {
     "data": {
      "text/plain": [
       "Diseases of Heart (I00-I09, I11, I13, I20-I51)                                                                                       110\n",
       "Influenza (Flu) and Pneumonia (J09-J18)                                                                                              110\n",
       "All Other Causes                                                                                                                     110\n",
       "Malignant Neoplasms (Cancer: C00-C97)                                                                                                110\n",
       "Diabetes Mellitus (E10-E14)                                                                                                          106\n",
       "Cerebrovascular Disease (Stroke: I60-I69)                                                                                            103\n",
       "Chronic Lower Respiratory Diseases (J40-J47)                                                                                         100\n",
       "Essential Hypertension and Renal Diseases (I10, I12)                                                                                  88\n",
       "Accidents Except Drug Posioning (V01-X39, X43, X45-X59, Y85-Y86)                                                                      80\n",
       "Mental and Behavioral Disorders due to Accidental Poisoning and Other Psychoactive Substance Use (F11-F16, F18-F19, X40-X42, X44)     51\n",
       "Human Immunodeficiency Virus Disease (HIV: B20-B24)                                                                                   44\n",
       "Alzheimer's Disease (G30)                                                                                                             40\n",
       "Intentional Self-Harm (Suicide: X60-X84, Y87.0)                                                                                       38\n",
       "Chronic Liver Disease and Cirrhosis (K70, K73)                                                                                        29\n",
       "Certain Conditions originating in the Perinatal Period (P00-P96)                                                                      28\n",
       "Assault (Homicide: Y87.1, X85-Y09)                                                                                                    20\n",
       "Nephritis, Nephrotic Syndrome and Nephrisis (N00-N07, N17-N19, N25-N27)                                                               19\n",
       "Septicemia (A40-A41)                                                                                                                  16\n",
       "Accidents Except Drug Poisoning (V01-X39, X43, X45-X59, Y85-Y86)                                                                      13\n",
       "Congenital Malformations, Deformations, and Chromosomal Abnormalities (Q00-Q99)                                                       10\n",
       "Intentional Self-Harm (Suicide: U03, X60-X84, Y87.0)                                                                                   7\n",
       "Insitu or Benign / Uncertain Neoplasms (D00-D48)                                                                                       6\n",
       "Viral Hepatitis (B15-B19)                                                                                                              6\n",
       "Mental and Behavioral Disorders due to Use of Alcohol (F10)                                                                            6\n",
       "Aortic Aneurysm and Dissection (I71)                                                                                                   4\n",
       "Assault (Homicide: U01-U02, Y87.1, X85-Y09)                                                                                            3\n",
       "Chronic Liver Disease and Cirrhosis (K70, K73-K74)                                                                                     3\n",
       "Atherosclerosis (I70)                                                                                                                  3\n",
       "Cholelithiasis and Disorders of Gallbladder (K80-K82)                                                                                  2\n",
       "Complications of Medical and Surgical Care (Y40-Y84, Y88)                                                                              2\n",
       "Parkinson's Disease (G20)                                                                                                              2\n",
       "Anemias (D50-D64)                                                                                                                      1\n",
       "Peptic Ulcer (K25-K28)                                                                                                                 1\n",
       "Tuberculosis (A16-A19)                                                                                                                 1\n",
       "Name: Leading Cause, dtype: int64"
      ]
     },
     "execution_count": 5,
     "metadata": {},
     "output_type": "execute_result"
    }
   ],
   "source": [
    "df['Leading Cause'].value_counts()"
   ]
  },
  {
   "cell_type": "code",
   "execution_count": 6,
   "id": "bf8c3134-886c-4f33-9bf7-132f9ee15661",
   "metadata": {},
   "outputs": [
    {
     "data": {
      "text/plain": [
       "F         554\n",
       "M         540\n",
       "Female     90\n",
       "Male       88\n",
       "Name: Sex, dtype: int64"
      ]
     },
     "execution_count": 6,
     "metadata": {},
     "output_type": "execute_result"
    }
   ],
   "source": [
    "df['Sex'].value_counts()"
   ]
  },
  {
   "cell_type": "code",
   "execution_count": 7,
   "id": "233f02a4-3328-48f0-bb68-1621a53007c1",
   "metadata": {},
   "outputs": [],
   "source": [
    "df['Sex'] = df['Sex'].replace({'M':'Male', 'F':'Female'})"
   ]
  },
  {
   "cell_type": "code",
   "execution_count": 8,
   "id": "74bacf82-71fb-49aa-b594-49322e1cb8f8",
   "metadata": {},
   "outputs": [
    {
     "data": {
      "text/plain": [
       "Female    644\n",
       "Male      628\n",
       "Name: Sex, dtype: int64"
      ]
     },
     "execution_count": 8,
     "metadata": {},
     "output_type": "execute_result"
    }
   ],
   "source": [
    "df['Sex'].value_counts()"
   ]
  },
  {
   "cell_type": "code",
   "execution_count": 9,
   "id": "82d2aa1b-60bc-4949-ad28-8d5cfd58ce87",
   "metadata": {},
   "outputs": [
    {
     "data": {
      "text/plain": [
       "0         Male\n",
       "1         Male\n",
       "2         Male\n",
       "3         Male\n",
       "4         Male\n",
       "         ...  \n",
       "1267      Male\n",
       "1268      Male\n",
       "1269      Male\n",
       "1270    Female\n",
       "1271      Male\n",
       "Name: Sex, Length: 1272, dtype: object"
      ]
     },
     "execution_count": 9,
     "metadata": {},
     "output_type": "execute_result"
    }
   ],
   "source": [
    "df['Sex']"
   ]
  },
  {
   "cell_type": "code",
   "execution_count": 10,
   "id": "939082c2-546d-4e76-b09e-851357c52cf6",
   "metadata": {},
   "outputs": [
    {
     "data": {
      "text/plain": [
       "Other Race/ Ethnicity         253\n",
       "Not Stated/Unknown            223\n",
       "Hispanic                      199\n",
       "Asian and Pacific Islander    199\n",
       "Black Non-Hispanic            178\n",
       "White Non-Hispanic            176\n",
       "Non-Hispanic White             22\n",
       "Non-Hispanic Black             22\n",
       "Name: Race Ethnicity, dtype: int64"
      ]
     },
     "execution_count": 10,
     "metadata": {},
     "output_type": "execute_result"
    }
   ],
   "source": [
    "df['Race Ethnicity'].value_counts()"
   ]
  },
  {
   "cell_type": "code",
   "execution_count": 11,
   "id": "2ca447e8-9019-4450-8931-33f43067facf",
   "metadata": {},
   "outputs": [],
   "source": [
    "df['Race Ethnicity'] = df['Race Ethnicity'].replace({'Non-Hispanic White':'White Non-Hispanic', 'Non-Hispanic Black':'Black Non-Hispanic'})"
   ]
  },
  {
   "cell_type": "code",
   "execution_count": 12,
   "id": "e51b612e-e62d-435b-9a9f-ee5d2735ccaf",
   "metadata": {},
   "outputs": [
    {
     "data": {
      "text/plain": [
       "Other Race/ Ethnicity         253\n",
       "Not Stated/Unknown            223\n",
       "Black Non-Hispanic            200\n",
       "Hispanic                      199\n",
       "Asian and Pacific Islander    199\n",
       "White Non-Hispanic            198\n",
       "Name: Race Ethnicity, dtype: int64"
      ]
     },
     "execution_count": 12,
     "metadata": {},
     "output_type": "execute_result"
    }
   ],
   "source": [
    "df['Race Ethnicity'].value_counts()"
   ]
  },
  {
   "cell_type": "code",
   "execution_count": 13,
   "id": "e4021616-67a8-42f3-9e1a-71f895c83c7f",
   "metadata": {},
   "outputs": [
    {
     "data": {
      "text/plain": [
       "2019    178\n",
       "2007    141\n",
       "2011    141\n",
       "2010    138\n",
       "2014    136\n",
       "2008    136\n",
       "2009    135\n",
       "2012    134\n",
       "2013    133\n",
       "Name: Year, dtype: int64"
      ]
     },
     "execution_count": 13,
     "metadata": {},
     "output_type": "execute_result"
    }
   ],
   "source": [
    "df['Year'].value_counts()"
   ]
  },
  {
   "cell_type": "code",
   "execution_count": 14,
   "id": "49ebe2ab-0e4f-4a5a-b661-36504bad1703",
   "metadata": {},
   "outputs": [
    {
     "data": {
      "text/html": [
       "<div>\n",
       "<style scoped>\n",
       "    .dataframe tbody tr th:only-of-type {\n",
       "        vertical-align: middle;\n",
       "    }\n",
       "\n",
       "    .dataframe tbody tr th {\n",
       "        vertical-align: top;\n",
       "    }\n",
       "\n",
       "    .dataframe thead th {\n",
       "        text-align: right;\n",
       "    }\n",
       "</style>\n",
       "<table border=\"1\" class=\"dataframe\">\n",
       "  <thead>\n",
       "    <tr style=\"text-align: right;\">\n",
       "      <th></th>\n",
       "      <th>Year</th>\n",
       "      <th>Leading Cause</th>\n",
       "      <th>Sex</th>\n",
       "      <th>Race Ethnicity</th>\n",
       "      <th>Deaths</th>\n",
       "      <th>Death Rate</th>\n",
       "      <th>Age Adjusted Death Rate</th>\n",
       "    </tr>\n",
       "  </thead>\n",
       "  <tbody>\n",
       "    <tr>\n",
       "      <th>0</th>\n",
       "      <td>2019</td>\n",
       "      <td>Diseases of Heart (I00-I09, I11, I13, I20-I51)</td>\n",
       "      <td>Male</td>\n",
       "      <td>Hispanic</td>\n",
       "      <td>1603</td>\n",
       "      <td>136.8029917</td>\n",
       "      <td>176.783287</td>\n",
       "    </tr>\n",
       "    <tr>\n",
       "      <th>1</th>\n",
       "      <td>2019</td>\n",
       "      <td>Malignant Neoplasms (Cancer: C00-C97)</td>\n",
       "      <td>Male</td>\n",
       "      <td>Hispanic</td>\n",
       "      <td>1164</td>\n",
       "      <td>99.3379179</td>\n",
       "      <td>121.5817693</td>\n",
       "    </tr>\n",
       "    <tr>\n",
       "      <th>2</th>\n",
       "      <td>2019</td>\n",
       "      <td>Mental and Behavioral Disorders due to Acciden...</td>\n",
       "      <td>Male</td>\n",
       "      <td>Hispanic</td>\n",
       "      <td>423</td>\n",
       "      <td>36.09960418</td>\n",
       "      <td>35.70789583</td>\n",
       "    </tr>\n",
       "    <tr>\n",
       "      <th>3</th>\n",
       "      <td>2019</td>\n",
       "      <td>Diabetes Mellitus (E10-E14)</td>\n",
       "      <td>Male</td>\n",
       "      <td>Hispanic</td>\n",
       "      <td>245</td>\n",
       "      <td>20.9087542</td>\n",
       "      <td>25.40934387</td>\n",
       "    </tr>\n",
       "    <tr>\n",
       "      <th>4</th>\n",
       "      <td>2019</td>\n",
       "      <td>Influenza (Flu) and Pneumonia (J09-J18)</td>\n",
       "      <td>Male</td>\n",
       "      <td>Hispanic</td>\n",
       "      <td>182</td>\n",
       "      <td>15.5322174</td>\n",
       "      <td>19.85821025</td>\n",
       "    </tr>\n",
       "  </tbody>\n",
       "</table>\n",
       "</div>"
      ],
      "text/plain": [
       "   Year                                      Leading Cause   Sex  \\\n",
       "0  2019     Diseases of Heart (I00-I09, I11, I13, I20-I51)  Male   \n",
       "1  2019              Malignant Neoplasms (Cancer: C00-C97)  Male   \n",
       "2  2019  Mental and Behavioral Disorders due to Acciden...  Male   \n",
       "3  2019                        Diabetes Mellitus (E10-E14)  Male   \n",
       "4  2019            Influenza (Flu) and Pneumonia (J09-J18)  Male   \n",
       "\n",
       "  Race Ethnicity Deaths   Death Rate Age Adjusted Death Rate  \n",
       "0       Hispanic   1603  136.8029917              176.783287  \n",
       "1       Hispanic   1164   99.3379179             121.5817693  \n",
       "2       Hispanic    423  36.09960418             35.70789583  \n",
       "3       Hispanic    245   20.9087542             25.40934387  \n",
       "4       Hispanic    182   15.5322174             19.85821025  "
      ]
     },
     "execution_count": 14,
     "metadata": {},
     "output_type": "execute_result"
    }
   ],
   "source": [
    "df.head()"
   ]
  },
  {
   "cell_type": "code",
   "execution_count": 15,
   "id": "a30b1dae-a771-4d65-858b-1a7ee1f78171",
   "metadata": {},
   "outputs": [],
   "source": [
    "df = df.drop(labels=['Death Rate', 'Age Adjusted Death Rate'], axis = 1)"
   ]
  },
  {
   "cell_type": "code",
   "execution_count": 16,
   "id": "4c288334-41ce-4263-99d9-7e2d4604b8e1",
   "metadata": {},
   "outputs": [
    {
     "data": {
      "text/html": [
       "<div>\n",
       "<style scoped>\n",
       "    .dataframe tbody tr th:only-of-type {\n",
       "        vertical-align: middle;\n",
       "    }\n",
       "\n",
       "    .dataframe tbody tr th {\n",
       "        vertical-align: top;\n",
       "    }\n",
       "\n",
       "    .dataframe thead th {\n",
       "        text-align: right;\n",
       "    }\n",
       "</style>\n",
       "<table border=\"1\" class=\"dataframe\">\n",
       "  <thead>\n",
       "    <tr style=\"text-align: right;\">\n",
       "      <th></th>\n",
       "      <th>Year</th>\n",
       "      <th>Leading Cause</th>\n",
       "      <th>Sex</th>\n",
       "      <th>Race Ethnicity</th>\n",
       "      <th>Deaths</th>\n",
       "    </tr>\n",
       "  </thead>\n",
       "  <tbody>\n",
       "    <tr>\n",
       "      <th>0</th>\n",
       "      <td>2019</td>\n",
       "      <td>Diseases of Heart (I00-I09, I11, I13, I20-I51)</td>\n",
       "      <td>Male</td>\n",
       "      <td>Hispanic</td>\n",
       "      <td>1603</td>\n",
       "    </tr>\n",
       "    <tr>\n",
       "      <th>1</th>\n",
       "      <td>2019</td>\n",
       "      <td>Malignant Neoplasms (Cancer: C00-C97)</td>\n",
       "      <td>Male</td>\n",
       "      <td>Hispanic</td>\n",
       "      <td>1164</td>\n",
       "    </tr>\n",
       "    <tr>\n",
       "      <th>2</th>\n",
       "      <td>2019</td>\n",
       "      <td>Mental and Behavioral Disorders due to Acciden...</td>\n",
       "      <td>Male</td>\n",
       "      <td>Hispanic</td>\n",
       "      <td>423</td>\n",
       "    </tr>\n",
       "    <tr>\n",
       "      <th>3</th>\n",
       "      <td>2019</td>\n",
       "      <td>Diabetes Mellitus (E10-E14)</td>\n",
       "      <td>Male</td>\n",
       "      <td>Hispanic</td>\n",
       "      <td>245</td>\n",
       "    </tr>\n",
       "    <tr>\n",
       "      <th>4</th>\n",
       "      <td>2019</td>\n",
       "      <td>Influenza (Flu) and Pneumonia (J09-J18)</td>\n",
       "      <td>Male</td>\n",
       "      <td>Hispanic</td>\n",
       "      <td>182</td>\n",
       "    </tr>\n",
       "  </tbody>\n",
       "</table>\n",
       "</div>"
      ],
      "text/plain": [
       "   Year                                      Leading Cause   Sex  \\\n",
       "0  2019     Diseases of Heart (I00-I09, I11, I13, I20-I51)  Male   \n",
       "1  2019              Malignant Neoplasms (Cancer: C00-C97)  Male   \n",
       "2  2019  Mental and Behavioral Disorders due to Acciden...  Male   \n",
       "3  2019                        Diabetes Mellitus (E10-E14)  Male   \n",
       "4  2019            Influenza (Flu) and Pneumonia (J09-J18)  Male   \n",
       "\n",
       "  Race Ethnicity Deaths  \n",
       "0       Hispanic   1603  \n",
       "1       Hispanic   1164  \n",
       "2       Hispanic    423  \n",
       "3       Hispanic    245  \n",
       "4       Hispanic    182  "
      ]
     },
     "execution_count": 16,
     "metadata": {},
     "output_type": "execute_result"
    }
   ],
   "source": [
    "df.head()"
   ]
  },
  {
   "cell_type": "code",
   "execution_count": 17,
   "id": "c03d547b-267d-4408-94c2-f972702a08e8",
   "metadata": {},
   "outputs": [
    {
     "data": {
      "text/html": [
       "<div>\n",
       "<style scoped>\n",
       "    .dataframe tbody tr th:only-of-type {\n",
       "        vertical-align: middle;\n",
       "    }\n",
       "\n",
       "    .dataframe tbody tr th {\n",
       "        vertical-align: top;\n",
       "    }\n",
       "\n",
       "    .dataframe thead th {\n",
       "        text-align: right;\n",
       "    }\n",
       "</style>\n",
       "<table border=\"1\" class=\"dataframe\">\n",
       "  <thead>\n",
       "    <tr style=\"text-align: right;\">\n",
       "      <th></th>\n",
       "      <th>Year</th>\n",
       "      <th>Leading Cause</th>\n",
       "      <th>Sex</th>\n",
       "      <th>Race Ethnicity</th>\n",
       "      <th>Deaths</th>\n",
       "    </tr>\n",
       "  </thead>\n",
       "  <tbody>\n",
       "    <tr>\n",
       "      <th>0</th>\n",
       "      <td>2019</td>\n",
       "      <td>Diseases of Heart (I00-I09, I11, I13, I20-I51)</td>\n",
       "      <td>Male</td>\n",
       "      <td>Hispanic</td>\n",
       "      <td>1603</td>\n",
       "    </tr>\n",
       "    <tr>\n",
       "      <th>1</th>\n",
       "      <td>2019</td>\n",
       "      <td>Malignant Neoplasms (Cancer: C00-C97)</td>\n",
       "      <td>Male</td>\n",
       "      <td>Hispanic</td>\n",
       "      <td>1164</td>\n",
       "    </tr>\n",
       "    <tr>\n",
       "      <th>2</th>\n",
       "      <td>2019</td>\n",
       "      <td>Mental and Behavioral Disorders due to Acciden...</td>\n",
       "      <td>Male</td>\n",
       "      <td>Hispanic</td>\n",
       "      <td>423</td>\n",
       "    </tr>\n",
       "    <tr>\n",
       "      <th>3</th>\n",
       "      <td>2019</td>\n",
       "      <td>Diabetes Mellitus (E10-E14)</td>\n",
       "      <td>Male</td>\n",
       "      <td>Hispanic</td>\n",
       "      <td>245</td>\n",
       "    </tr>\n",
       "    <tr>\n",
       "      <th>4</th>\n",
       "      <td>2019</td>\n",
       "      <td>Influenza (Flu) and Pneumonia (J09-J18)</td>\n",
       "      <td>Male</td>\n",
       "      <td>Hispanic</td>\n",
       "      <td>182</td>\n",
       "    </tr>\n",
       "  </tbody>\n",
       "</table>\n",
       "</div>"
      ],
      "text/plain": [
       "   Year                                      Leading Cause   Sex  \\\n",
       "0  2019     Diseases of Heart (I00-I09, I11, I13, I20-I51)  Male   \n",
       "1  2019              Malignant Neoplasms (Cancer: C00-C97)  Male   \n",
       "2  2019  Mental and Behavioral Disorders due to Acciden...  Male   \n",
       "3  2019                        Diabetes Mellitus (E10-E14)  Male   \n",
       "4  2019            Influenza (Flu) and Pneumonia (J09-J18)  Male   \n",
       "\n",
       "  Race Ethnicity Deaths  \n",
       "0       Hispanic   1603  \n",
       "1       Hispanic   1164  \n",
       "2       Hispanic    423  \n",
       "3       Hispanic    245  \n",
       "4       Hispanic    182  "
      ]
     },
     "execution_count": 17,
     "metadata": {},
     "output_type": "execute_result"
    }
   ],
   "source": [
    "df.head()"
   ]
  },
  {
   "cell_type": "code",
   "execution_count": 18,
   "id": "a545aac2-883b-451a-b6ed-44d17266f007",
   "metadata": {},
   "outputs": [],
   "source": [
    "df.to_csv('modified_nyc_deaths.csv')"
   ]
  },
  {
   "cell_type": "code",
   "execution_count": 19,
   "id": "73ba32af-0a49-4d1d-a829-a6c6f85f0efd",
   "metadata": {},
   "outputs": [
    {
     "data": {
      "text/plain": [
       ".       138\n",
       "5        35\n",
       "8        24\n",
       "6        22\n",
       "1        21\n",
       "       ... \n",
       "208       1\n",
       "1149      1\n",
       "451       1\n",
       "225       1\n",
       "1464      1\n",
       "Name: Deaths, Length: 505, dtype: int64"
      ]
     },
     "execution_count": 19,
     "metadata": {},
     "output_type": "execute_result"
    }
   ],
   "source": [
    "df['Deaths'].value_counts()"
   ]
  },
  {
   "cell_type": "code",
   "execution_count": 29,
   "id": "26e2d28c-271b-43af-829a-ea84adb89650",
   "metadata": {},
   "outputs": [
    {
     "data": {
      "text/plain": [
       "0       1603\n",
       "1       1164\n",
       "2        423\n",
       "3        245\n",
       "4        182\n",
       "        ... \n",
       "1267      11\n",
       "1268      86\n",
       "1269    1464\n",
       "1270      11\n",
       "1271      55\n",
       "Name: Deaths, Length: 1272, dtype: object"
      ]
     },
     "execution_count": 29,
     "metadata": {},
     "output_type": "execute_result"
    }
   ],
   "source": [
    "df['Deaths']"
   ]
  },
  {
   "cell_type": "code",
   "execution_count": 30,
   "id": "1a2f82cd-3d3f-4516-9955-976cdd5e69bb",
   "metadata": {},
   "outputs": [],
   "source": [
    "df['Deaths'] = df['Deaths'].astype(\"string\")"
   ]
  },
  {
   "cell_type": "code",
   "execution_count": 31,
   "id": "c8899612-3f6e-4cac-a8cc-8b9504718dd7",
   "metadata": {},
   "outputs": [
    {
     "data": {
      "text/plain": [
       "0       1603\n",
       "1       1164\n",
       "2        423\n",
       "3        245\n",
       "4        182\n",
       "        ... \n",
       "1267      11\n",
       "1268      86\n",
       "1269    1464\n",
       "1270      11\n",
       "1271      55\n",
       "Name: Deaths, Length: 1272, dtype: string"
      ]
     },
     "execution_count": 31,
     "metadata": {},
     "output_type": "execute_result"
    }
   ],
   "source": [
    "df['Deaths']"
   ]
  },
  {
   "cell_type": "code",
   "execution_count": 32,
   "id": "0120ce0c-f176-4e12-b36c-695fecd9606b",
   "metadata": {},
   "outputs": [],
   "source": [
    "df['Deaths'] = df['Deaths'].replace({'.':'0'})"
   ]
  },
  {
   "cell_type": "code",
   "execution_count": 35,
   "id": "621ad790-caa1-4105-9c40-b10ab4a229c4",
   "metadata": {},
   "outputs": [
    {
     "data": {
      "text/plain": [
       "0    1603\n",
       "1    1164\n",
       "2     423\n",
       "3     245\n",
       "4     182\n",
       "Name: Deaths, dtype: string"
      ]
     },
     "execution_count": 35,
     "metadata": {},
     "output_type": "execute_result"
    }
   ],
   "source": [
    "df['Deaths'].head()"
   ]
  },
  {
   "cell_type": "code",
   "execution_count": 36,
   "id": "827d8c40-3c1f-4380-9598-4bdc6108ff00",
   "metadata": {},
   "outputs": [],
   "source": [
    "df['Deaths'] = df['Deaths'].astype(int)"
   ]
  },
  {
   "cell_type": "code",
   "execution_count": 37,
   "id": "b1ebc3a4-b728-4fb9-bcde-44ca5192e548",
   "metadata": {},
   "outputs": [
    {
     "data": {
      "text/plain": [
       "0    1603\n",
       "1    1164\n",
       "2     423\n",
       "3     245\n",
       "4     182\n",
       "Name: Deaths, dtype: int64"
      ]
     },
     "execution_count": 37,
     "metadata": {},
     "output_type": "execute_result"
    }
   ],
   "source": [
    "df['Deaths'].head()"
   ]
  },
  {
   "cell_type": "code",
   "execution_count": 38,
   "id": "133b92b6-79b1-48f5-a270-009baf7b08fc",
   "metadata": {},
   "outputs": [
    {
     "data": {
      "text/plain": [
       "0       138\n",
       "5        35\n",
       "8        24\n",
       "6        22\n",
       "1        21\n",
       "       ... \n",
       "208       1\n",
       "1149      1\n",
       "451       1\n",
       "225       1\n",
       "1464      1\n",
       "Name: Deaths, Length: 505, dtype: int64"
      ]
     },
     "execution_count": 38,
     "metadata": {},
     "output_type": "execute_result"
    }
   ],
   "source": [
    "df['Deaths'].value_counts()"
   ]
  },
  {
   "cell_type": "code",
   "execution_count": 20,
   "id": "db6bcd88-286a-4738-9f78-2c616ad19599",
   "metadata": {},
   "outputs": [
    {
     "data": {
      "text/html": [
       "<div>\n",
       "<style scoped>\n",
       "    .dataframe tbody tr th:only-of-type {\n",
       "        vertical-align: middle;\n",
       "    }\n",
       "\n",
       "    .dataframe tbody tr th {\n",
       "        vertical-align: top;\n",
       "    }\n",
       "\n",
       "    .dataframe thead th {\n",
       "        text-align: right;\n",
       "    }\n",
       "</style>\n",
       "<table border=\"1\" class=\"dataframe\">\n",
       "  <thead>\n",
       "    <tr style=\"text-align: right;\">\n",
       "      <th></th>\n",
       "      <th>Year</th>\n",
       "      <th>Leading Cause</th>\n",
       "      <th>Sex</th>\n",
       "      <th>Race Ethnicity</th>\n",
       "      <th>Deaths</th>\n",
       "    </tr>\n",
       "  </thead>\n",
       "  <tbody>\n",
       "    <tr>\n",
       "      <th>0</th>\n",
       "      <td>2019</td>\n",
       "      <td>Diseases of Heart (I00-I09, I11, I13, I20-I51)</td>\n",
       "      <td>Male</td>\n",
       "      <td>Hispanic</td>\n",
       "      <td>1603</td>\n",
       "    </tr>\n",
       "    <tr>\n",
       "      <th>1</th>\n",
       "      <td>2019</td>\n",
       "      <td>Malignant Neoplasms (Cancer: C00-C97)</td>\n",
       "      <td>Male</td>\n",
       "      <td>Hispanic</td>\n",
       "      <td>1164</td>\n",
       "    </tr>\n",
       "    <tr>\n",
       "      <th>2</th>\n",
       "      <td>2019</td>\n",
       "      <td>Mental and Behavioral Disorders due to Acciden...</td>\n",
       "      <td>Male</td>\n",
       "      <td>Hispanic</td>\n",
       "      <td>423</td>\n",
       "    </tr>\n",
       "    <tr>\n",
       "      <th>3</th>\n",
       "      <td>2019</td>\n",
       "      <td>Diabetes Mellitus (E10-E14)</td>\n",
       "      <td>Male</td>\n",
       "      <td>Hispanic</td>\n",
       "      <td>245</td>\n",
       "    </tr>\n",
       "    <tr>\n",
       "      <th>4</th>\n",
       "      <td>2019</td>\n",
       "      <td>Influenza (Flu) and Pneumonia (J09-J18)</td>\n",
       "      <td>Male</td>\n",
       "      <td>Hispanic</td>\n",
       "      <td>182</td>\n",
       "    </tr>\n",
       "  </tbody>\n",
       "</table>\n",
       "</div>"
      ],
      "text/plain": [
       "   Year                                      Leading Cause   Sex  \\\n",
       "0  2019     Diseases of Heart (I00-I09, I11, I13, I20-I51)  Male   \n",
       "1  2019              Malignant Neoplasms (Cancer: C00-C97)  Male   \n",
       "2  2019  Mental and Behavioral Disorders due to Acciden...  Male   \n",
       "3  2019                        Diabetes Mellitus (E10-E14)  Male   \n",
       "4  2019            Influenza (Flu) and Pneumonia (J09-J18)  Male   \n",
       "\n",
       "  Race Ethnicity Deaths  \n",
       "0       Hispanic   1603  \n",
       "1       Hispanic   1164  \n",
       "2       Hispanic    423  \n",
       "3       Hispanic    245  \n",
       "4       Hispanic    182  "
      ]
     },
     "execution_count": 20,
     "metadata": {},
     "output_type": "execute_result"
    }
   ],
   "source": [
    "df.head()"
   ]
  },
  {
   "cell_type": "code",
   "execution_count": 40,
   "id": "2176ff56-85c5-4a6d-98a0-43699c70dd0d",
   "metadata": {},
   "outputs": [
    {
     "data": {
      "text/plain": [
       "2019    178\n",
       "2007    141\n",
       "2011    141\n",
       "2010    138\n",
       "2014    136\n",
       "2008    136\n",
       "2009    135\n",
       "2012    134\n",
       "2013    133\n",
       "Name: Year, dtype: int64"
      ]
     },
     "execution_count": 40,
     "metadata": {},
     "output_type": "execute_result"
    }
   ],
   "source": [
    "df['Year'].value_counts()"
   ]
  },
  {
   "cell_type": "code",
   "execution_count": 41,
   "id": "5b28ebec-f966-450e-8cfb-a529e3f16bd2",
   "metadata": {},
   "outputs": [],
   "source": [
    "df.to_csv('modified_nyc_deaths.csv', index=False)"
   ]
  },
  {
   "cell_type": "code",
   "execution_count": 44,
   "id": "6f162553-bf02-4052-abf8-de20df64fcd6",
   "metadata": {},
   "outputs": [
    {
     "data": {
      "text/plain": [
       "34"
      ]
     },
     "execution_count": 44,
     "metadata": {},
     "output_type": "execute_result"
    }
   ],
   "source": [
    "len(df['Leading Cause'].unique())"
   ]
  },
  {
   "cell_type": "code",
   "execution_count": 46,
   "id": "50d9a773-3331-4992-85c6-6cf6cf728c19",
   "metadata": {},
   "outputs": [
    {
     "data": {
      "text/plain": [
       "6"
      ]
     },
     "execution_count": 46,
     "metadata": {},
     "output_type": "execute_result"
    }
   ],
   "source": [
    "len(df['Race Ethnicity'].unique())"
   ]
  },
  {
   "cell_type": "markdown",
   "id": "0d5ba38c-13fd-47f9-b186-3d7230bb1725",
   "metadata": {},
   "source": [
    "### Combine race with sex"
   ]
  },
  {
   "cell_type": "code",
   "execution_count": 49,
   "id": "2aa1fa1f-104e-403a-93a4-76323ea8970b",
   "metadata": {},
   "outputs": [
    {
     "data": {
      "text/plain": [
       "Other Race/ Ethnicity         253\n",
       "Not Stated/Unknown            223\n",
       "Black Non-Hispanic            200\n",
       "Hispanic                      199\n",
       "Asian and Pacific Islander    199\n",
       "White Non-Hispanic            198\n",
       "Name: Race Ethnicity, dtype: int64"
      ]
     },
     "execution_count": 49,
     "metadata": {},
     "output_type": "execute_result"
    }
   ],
   "source": [
    "df['Race Ethnicity'].value_counts()"
   ]
  },
  {
   "cell_type": "code",
   "execution_count": 50,
   "id": "79913c37-ebdc-4f36-ab29-af2489efeb98",
   "metadata": {},
   "outputs": [
    {
     "data": {
      "text/plain": [
       "0    Hispanic\n",
       "1    Hispanic\n",
       "2    Hispanic\n",
       "3    Hispanic\n",
       "4    Hispanic\n",
       "Name: Race Ethnicity, dtype: object"
      ]
     },
     "execution_count": 50,
     "metadata": {},
     "output_type": "execute_result"
    }
   ],
   "source": [
    "df['Race Ethnicity'].head()"
   ]
  },
  {
   "cell_type": "code",
   "execution_count": 53,
   "id": "fcbe9877-e55f-434a-a0ac-8107238289c7",
   "metadata": {},
   "outputs": [],
   "source": [
    "df['Race Ethnicity'] = df['Race Ethnicity'].astype('string')"
   ]
  },
  {
   "cell_type": "code",
   "execution_count": 54,
   "id": "d740751d-2a8d-4586-a751-6b5348adeb6a",
   "metadata": {},
   "outputs": [
    {
     "data": {
      "text/plain": [
       "0    Hispanic\n",
       "1    Hispanic\n",
       "2    Hispanic\n",
       "3    Hispanic\n",
       "4    Hispanic\n",
       "Name: Race Ethnicity, dtype: string"
      ]
     },
     "execution_count": 54,
     "metadata": {},
     "output_type": "execute_result"
    }
   ],
   "source": [
    "df['Race Ethnicity'].head()"
   ]
  },
  {
   "cell_type": "code",
   "execution_count": 55,
   "id": "9afcadb4-04cc-4c7e-9985-23b763181afa",
   "metadata": {},
   "outputs": [
    {
     "data": {
      "text/plain": [
       "Other Race/ Ethnicity         253\n",
       "Not Stated/Unknown            223\n",
       "Black Non-Hispanic            200\n",
       "Hispanic                      199\n",
       "Asian and Pacific Islander    199\n",
       "White Non-Hispanic            198\n",
       "Name: Race Ethnicity, dtype: Int64"
      ]
     },
     "execution_count": 55,
     "metadata": {},
     "output_type": "execute_result"
    }
   ],
   "source": [
    "df['Race Ethnicity'].value_counts()"
   ]
  },
  {
   "cell_type": "code",
   "execution_count": 56,
   "id": "8d971c11-a92d-4927-838a-77f01b0a61b3",
   "metadata": {},
   "outputs": [],
   "source": [
    "df['Race Ethnicity'] = df['Race Ethnicity'].replace({'Other Race/ Ethnicity':'Other Race/Ethnicity'})"
   ]
  },
  {
   "cell_type": "code",
   "execution_count": 57,
   "id": "3035ef56-71e7-48d7-947f-e9bf3be48e0c",
   "metadata": {},
   "outputs": [
    {
     "data": {
      "text/plain": [
       "Other Race/Ethnicity          253\n",
       "Not Stated/Unknown            223\n",
       "Black Non-Hispanic            200\n",
       "Hispanic                      199\n",
       "Asian and Pacific Islander    199\n",
       "White Non-Hispanic            198\n",
       "Name: Race Ethnicity, dtype: Int64"
      ]
     },
     "execution_count": 57,
     "metadata": {},
     "output_type": "execute_result"
    }
   ],
   "source": [
    "df['Race Ethnicity'].value_counts()"
   ]
  },
  {
   "cell_type": "code",
   "execution_count": 68,
   "id": "8356b2da-b847-4555-987e-8d0bb423d3cf",
   "metadata": {},
   "outputs": [],
   "source": [
    "df['Sex'] = df['Sex'].replace({'Male':'M', 'Female':'F'})"
   ]
  },
  {
   "cell_type": "code",
   "execution_count": 69,
   "id": "595da03a-83ab-47c2-8f3d-1d9feb641ed9",
   "metadata": {},
   "outputs": [],
   "source": [
    "df[\"Race Ethnicity Sex\"] = df[\"Race Ethnicity\"] + \"_\" + df[\"Sex\"]"
   ]
  },
  {
   "cell_type": "code",
   "execution_count": 70,
   "id": "a6196374-ecaf-43d4-8755-1db48c870c93",
   "metadata": {},
   "outputs": [
    {
     "data": {
      "text/html": [
       "<div>\n",
       "<style scoped>\n",
       "    .dataframe tbody tr th:only-of-type {\n",
       "        vertical-align: middle;\n",
       "    }\n",
       "\n",
       "    .dataframe tbody tr th {\n",
       "        vertical-align: top;\n",
       "    }\n",
       "\n",
       "    .dataframe thead th {\n",
       "        text-align: right;\n",
       "    }\n",
       "</style>\n",
       "<table border=\"1\" class=\"dataframe\">\n",
       "  <thead>\n",
       "    <tr style=\"text-align: right;\">\n",
       "      <th></th>\n",
       "      <th>Year</th>\n",
       "      <th>Leading Cause</th>\n",
       "      <th>Sex</th>\n",
       "      <th>Race Ethnicity</th>\n",
       "      <th>Deaths</th>\n",
       "      <th>Race Ethnicity Sex</th>\n",
       "    </tr>\n",
       "  </thead>\n",
       "  <tbody>\n",
       "    <tr>\n",
       "      <th>0</th>\n",
       "      <td>2019</td>\n",
       "      <td>Diseases of Heart (I00-I09, I11, I13, I20-I51)</td>\n",
       "      <td>M</td>\n",
       "      <td>Hispanic</td>\n",
       "      <td>1603</td>\n",
       "      <td>Hispanic_M</td>\n",
       "    </tr>\n",
       "    <tr>\n",
       "      <th>1</th>\n",
       "      <td>2019</td>\n",
       "      <td>Malignant Neoplasms (Cancer: C00-C97)</td>\n",
       "      <td>M</td>\n",
       "      <td>Hispanic</td>\n",
       "      <td>1164</td>\n",
       "      <td>Hispanic_M</td>\n",
       "    </tr>\n",
       "    <tr>\n",
       "      <th>2</th>\n",
       "      <td>2019</td>\n",
       "      <td>Mental and Behavioral Disorders due to Acciden...</td>\n",
       "      <td>M</td>\n",
       "      <td>Hispanic</td>\n",
       "      <td>423</td>\n",
       "      <td>Hispanic_M</td>\n",
       "    </tr>\n",
       "    <tr>\n",
       "      <th>3</th>\n",
       "      <td>2019</td>\n",
       "      <td>Diabetes Mellitus (E10-E14)</td>\n",
       "      <td>M</td>\n",
       "      <td>Hispanic</td>\n",
       "      <td>245</td>\n",
       "      <td>Hispanic_M</td>\n",
       "    </tr>\n",
       "    <tr>\n",
       "      <th>4</th>\n",
       "      <td>2019</td>\n",
       "      <td>Influenza (Flu) and Pneumonia (J09-J18)</td>\n",
       "      <td>M</td>\n",
       "      <td>Hispanic</td>\n",
       "      <td>182</td>\n",
       "      <td>Hispanic_M</td>\n",
       "    </tr>\n",
       "  </tbody>\n",
       "</table>\n",
       "</div>"
      ],
      "text/plain": [
       "   Year                                      Leading Cause Sex Race Ethnicity  \\\n",
       "0  2019     Diseases of Heart (I00-I09, I11, I13, I20-I51)   M       Hispanic   \n",
       "1  2019              Malignant Neoplasms (Cancer: C00-C97)   M       Hispanic   \n",
       "2  2019  Mental and Behavioral Disorders due to Acciden...   M       Hispanic   \n",
       "3  2019                        Diabetes Mellitus (E10-E14)   M       Hispanic   \n",
       "4  2019            Influenza (Flu) and Pneumonia (J09-J18)   M       Hispanic   \n",
       "\n",
       "   Deaths Race Ethnicity Sex  \n",
       "0    1603         Hispanic_M  \n",
       "1    1164         Hispanic_M  \n",
       "2     423         Hispanic_M  \n",
       "3     245         Hispanic_M  \n",
       "4     182         Hispanic_M  "
      ]
     },
     "execution_count": 70,
     "metadata": {},
     "output_type": "execute_result"
    }
   ],
   "source": [
    "df.head()"
   ]
  },
  {
   "cell_type": "code",
   "execution_count": 71,
   "id": "ca43b395-6db2-4d9b-8531-4e5d2d96dab1",
   "metadata": {},
   "outputs": [
    {
     "name": "stdout",
     "output_type": "stream",
     "text": [
      "<class 'pandas.core.frame.DataFrame'>\n",
      "RangeIndex: 1272 entries, 0 to 1271\n",
      "Data columns (total 6 columns):\n",
      " #   Column              Non-Null Count  Dtype \n",
      "---  ------              --------------  ----- \n",
      " 0   Year                1272 non-null   int64 \n",
      " 1   Leading Cause       1272 non-null   object\n",
      " 2   Sex                 1272 non-null   object\n",
      " 3   Race Ethnicity      1272 non-null   string\n",
      " 4   Deaths              1272 non-null   int64 \n",
      " 5   Race Ethnicity Sex  1272 non-null   string\n",
      "dtypes: int64(2), object(2), string(2)\n",
      "memory usage: 59.8+ KB\n"
     ]
    }
   ],
   "source": [
    "df.info()"
   ]
  },
  {
   "cell_type": "code",
   "execution_count": 72,
   "id": "f2523233-88ae-4e8a-933f-8b309fb35f35",
   "metadata": {},
   "outputs": [],
   "source": [
    "df = df.drop(columns = ['Sex', 'Race Ethnicity'])"
   ]
  },
  {
   "cell_type": "code",
   "execution_count": 73,
   "id": "495f23c2-4878-4593-ae16-d9a302f6919e",
   "metadata": {},
   "outputs": [
    {
     "data": {
      "text/html": [
       "<div>\n",
       "<style scoped>\n",
       "    .dataframe tbody tr th:only-of-type {\n",
       "        vertical-align: middle;\n",
       "    }\n",
       "\n",
       "    .dataframe tbody tr th {\n",
       "        vertical-align: top;\n",
       "    }\n",
       "\n",
       "    .dataframe thead th {\n",
       "        text-align: right;\n",
       "    }\n",
       "</style>\n",
       "<table border=\"1\" class=\"dataframe\">\n",
       "  <thead>\n",
       "    <tr style=\"text-align: right;\">\n",
       "      <th></th>\n",
       "      <th>Year</th>\n",
       "      <th>Leading Cause</th>\n",
       "      <th>Deaths</th>\n",
       "      <th>Race Ethnicity Sex</th>\n",
       "    </tr>\n",
       "  </thead>\n",
       "  <tbody>\n",
       "    <tr>\n",
       "      <th>0</th>\n",
       "      <td>2019</td>\n",
       "      <td>Diseases of Heart (I00-I09, I11, I13, I20-I51)</td>\n",
       "      <td>1603</td>\n",
       "      <td>Hispanic_M</td>\n",
       "    </tr>\n",
       "    <tr>\n",
       "      <th>1</th>\n",
       "      <td>2019</td>\n",
       "      <td>Malignant Neoplasms (Cancer: C00-C97)</td>\n",
       "      <td>1164</td>\n",
       "      <td>Hispanic_M</td>\n",
       "    </tr>\n",
       "    <tr>\n",
       "      <th>2</th>\n",
       "      <td>2019</td>\n",
       "      <td>Mental and Behavioral Disorders due to Acciden...</td>\n",
       "      <td>423</td>\n",
       "      <td>Hispanic_M</td>\n",
       "    </tr>\n",
       "    <tr>\n",
       "      <th>3</th>\n",
       "      <td>2019</td>\n",
       "      <td>Diabetes Mellitus (E10-E14)</td>\n",
       "      <td>245</td>\n",
       "      <td>Hispanic_M</td>\n",
       "    </tr>\n",
       "    <tr>\n",
       "      <th>4</th>\n",
       "      <td>2019</td>\n",
       "      <td>Influenza (Flu) and Pneumonia (J09-J18)</td>\n",
       "      <td>182</td>\n",
       "      <td>Hispanic_M</td>\n",
       "    </tr>\n",
       "  </tbody>\n",
       "</table>\n",
       "</div>"
      ],
      "text/plain": [
       "   Year                                      Leading Cause  Deaths  \\\n",
       "0  2019     Diseases of Heart (I00-I09, I11, I13, I20-I51)    1603   \n",
       "1  2019              Malignant Neoplasms (Cancer: C00-C97)    1164   \n",
       "2  2019  Mental and Behavioral Disorders due to Acciden...     423   \n",
       "3  2019                        Diabetes Mellitus (E10-E14)     245   \n",
       "4  2019            Influenza (Flu) and Pneumonia (J09-J18)     182   \n",
       "\n",
       "  Race Ethnicity Sex  \n",
       "0         Hispanic_M  \n",
       "1         Hispanic_M  \n",
       "2         Hispanic_M  \n",
       "3         Hispanic_M  \n",
       "4         Hispanic_M  "
      ]
     },
     "execution_count": 73,
     "metadata": {},
     "output_type": "execute_result"
    }
   ],
   "source": [
    "df.head()"
   ]
  },
  {
   "cell_type": "code",
   "execution_count": 74,
   "id": "c6862450-263b-4175-ab96-60b11ea72c41",
   "metadata": {},
   "outputs": [],
   "source": [
    "df.to_csv('modified_nyc_deaths_final.csv')"
   ]
  },
  {
   "cell_type": "code",
   "execution_count": null,
   "id": "e2f8f0b0-ddd4-4982-b8b7-4b7920a0de91",
   "metadata": {},
   "outputs": [],
   "source": []
  }
 ],
 "metadata": {
  "kernelspec": {
   "display_name": "Python 3 (ipykernel)",
   "language": "python",
   "name": "python3"
  },
  "language_info": {
   "codemirror_mode": {
    "name": "ipython",
    "version": 3
   },
   "file_extension": ".py",
   "mimetype": "text/x-python",
   "name": "python",
   "nbconvert_exporter": "python",
   "pygments_lexer": "ipython3",
   "version": "3.9.12"
  }
 },
 "nbformat": 4,
 "nbformat_minor": 5
}
