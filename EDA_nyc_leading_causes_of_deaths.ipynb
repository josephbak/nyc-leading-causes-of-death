{
 "cells": [
  {
   "cell_type": "markdown",
   "id": "5c76e19f-a798-4217-b446-7aada90a6f3a",
   "metadata": {},
   "source": [
    "# Exploratory Data Analysis in Python using pandas\n",
    "\n",
    "In this Jupyter notebook, I will perform Exploratory Data Analysis on web scraped data of New York City Leading Causes of Death in Python using Pandas for Data Science."
   ]
  },
  {
   "cell_type": "code",
   "execution_count": 19,
   "id": "a4136625-226b-4c38-b3db-f782a93efa2c",
   "metadata": {},
   "outputs": [],
   "source": [
    "import pandas as pd\n",
    "import numpy as np"
   ]
  },
  {
   "cell_type": "code",
   "execution_count": 27,
   "id": "f6165509-50d3-4d57-9fc0-21d3c3b8f34e",
   "metadata": {},
   "outputs": [],
   "source": [
    "# Retrieve CSV data from data.gov\n",
    "url = \"https://data.cityofnewyork.us/api/views/jb7j-dtam/rows.csv?accessType=DOWNLOAD\"\n",
    "raw = pd.read_csv(url)"
   ]
  },
  {
   "cell_type": "markdown",
   "id": "bac0b3b9-e8b1-47b4-a791-b119a7a69982",
   "metadata": {},
   "source": [
    "# Data cleaning"
   ]
  },
  {
   "cell_type": "markdown",
   "id": "578b5f16-e327-46eb-b988-9c5f8427ec9a",
   "metadata": {},
   "source": [
    "## Data dimension"
   ]
  },
  {
   "cell_type": "code",
   "execution_count": 29,
   "id": "1c395bce-26b8-4737-90db-cccfee212f84",
   "metadata": {},
   "outputs": [
    {
     "data": {
      "text/plain": [
       "(1272, 7)"
      ]
     },
     "execution_count": 29,
     "metadata": {},
     "output_type": "execute_result"
    }
   ],
   "source": [
    "raw.shape"
   ]
  },
  {
   "cell_type": "markdown",
   "id": "836fd925-6f2f-486d-8b50-aff24cf65ba9",
   "metadata": {},
   "source": [
    "## Dataframe contents and types"
   ]
  },
  {
   "cell_type": "code",
   "execution_count": 30,
   "id": "e2543b5b-a661-4d24-a5ea-549bc6b7c500",
   "metadata": {},
   "outputs": [
    {
     "data": {
      "text/html": [
       "<div>\n",
       "<style scoped>\n",
       "    .dataframe tbody tr th:only-of-type {\n",
       "        vertical-align: middle;\n",
       "    }\n",
       "\n",
       "    .dataframe tbody tr th {\n",
       "        vertical-align: top;\n",
       "    }\n",
       "\n",
       "    .dataframe thead th {\n",
       "        text-align: right;\n",
       "    }\n",
       "</style>\n",
       "<table border=\"1\" class=\"dataframe\">\n",
       "  <thead>\n",
       "    <tr style=\"text-align: right;\">\n",
       "      <th></th>\n",
       "      <th>Year</th>\n",
       "      <th>Leading Cause</th>\n",
       "      <th>Sex</th>\n",
       "      <th>Race Ethnicity</th>\n",
       "      <th>Deaths</th>\n",
       "      <th>Death Rate</th>\n",
       "      <th>Age Adjusted Death Rate</th>\n",
       "    </tr>\n",
       "  </thead>\n",
       "  <tbody>\n",
       "    <tr>\n",
       "      <th>0</th>\n",
       "      <td>2019</td>\n",
       "      <td>Diseases of Heart (I00-I09, I11, I13, I20-I51)</td>\n",
       "      <td>Male</td>\n",
       "      <td>Hispanic</td>\n",
       "      <td>1603</td>\n",
       "      <td>136.8029917</td>\n",
       "      <td>176.783287</td>\n",
       "    </tr>\n",
       "    <tr>\n",
       "      <th>1</th>\n",
       "      <td>2019</td>\n",
       "      <td>Malignant Neoplasms (Cancer: C00-C97)</td>\n",
       "      <td>Male</td>\n",
       "      <td>Hispanic</td>\n",
       "      <td>1164</td>\n",
       "      <td>99.3379179</td>\n",
       "      <td>121.5817693</td>\n",
       "    </tr>\n",
       "    <tr>\n",
       "      <th>2</th>\n",
       "      <td>2019</td>\n",
       "      <td>Mental and Behavioral Disorders due to Acciden...</td>\n",
       "      <td>Male</td>\n",
       "      <td>Hispanic</td>\n",
       "      <td>423</td>\n",
       "      <td>36.09960418</td>\n",
       "      <td>35.70789583</td>\n",
       "    </tr>\n",
       "    <tr>\n",
       "      <th>3</th>\n",
       "      <td>2019</td>\n",
       "      <td>Diabetes Mellitus (E10-E14)</td>\n",
       "      <td>Male</td>\n",
       "      <td>Hispanic</td>\n",
       "      <td>245</td>\n",
       "      <td>20.9087542</td>\n",
       "      <td>25.40934387</td>\n",
       "    </tr>\n",
       "    <tr>\n",
       "      <th>4</th>\n",
       "      <td>2019</td>\n",
       "      <td>Influenza (Flu) and Pneumonia (J09-J18)</td>\n",
       "      <td>Male</td>\n",
       "      <td>Hispanic</td>\n",
       "      <td>182</td>\n",
       "      <td>15.5322174</td>\n",
       "      <td>19.85821025</td>\n",
       "    </tr>\n",
       "  </tbody>\n",
       "</table>\n",
       "</div>"
      ],
      "text/plain": [
       "   Year                                      Leading Cause   Sex  \\\n",
       "0  2019     Diseases of Heart (I00-I09, I11, I13, I20-I51)  Male   \n",
       "1  2019              Malignant Neoplasms (Cancer: C00-C97)  Male   \n",
       "2  2019  Mental and Behavioral Disorders due to Acciden...  Male   \n",
       "3  2019                        Diabetes Mellitus (E10-E14)  Male   \n",
       "4  2019            Influenza (Flu) and Pneumonia (J09-J18)  Male   \n",
       "\n",
       "  Race Ethnicity Deaths   Death Rate Age Adjusted Death Rate  \n",
       "0       Hispanic   1603  136.8029917              176.783287  \n",
       "1       Hispanic   1164   99.3379179             121.5817693  \n",
       "2       Hispanic    423  36.09960418             35.70789583  \n",
       "3       Hispanic    245   20.9087542             25.40934387  \n",
       "4       Hispanic    182   15.5322174             19.85821025  "
      ]
     },
     "execution_count": 30,
     "metadata": {},
     "output_type": "execute_result"
    }
   ],
   "source": [
    "raw.head()"
   ]
  },
  {
   "cell_type": "code",
   "execution_count": 31,
   "id": "9288d336-ecd5-495c-a733-e4428152faa4",
   "metadata": {},
   "outputs": [
    {
     "name": "stdout",
     "output_type": "stream",
     "text": [
      "<class 'pandas.core.frame.DataFrame'>\n",
      "RangeIndex: 1272 entries, 0 to 1271\n",
      "Data columns (total 7 columns):\n",
      " #   Column                   Non-Null Count  Dtype \n",
      "---  ------                   --------------  ----- \n",
      " 0   Year                     1272 non-null   int64 \n",
      " 1   Leading Cause            1272 non-null   object\n",
      " 2   Sex                      1272 non-null   object\n",
      " 3   Race Ethnicity           1272 non-null   object\n",
      " 4   Deaths                   1272 non-null   object\n",
      " 5   Death Rate               1205 non-null   object\n",
      " 6   Age Adjusted Death Rate  1205 non-null   object\n",
      "dtypes: int64(1), object(6)\n",
      "memory usage: 69.7+ KB\n"
     ]
    }
   ],
   "source": [
    "raw.info()"
   ]
  },
  {
   "cell_type": "markdown",
   "id": "8737d1c6-19e9-44ab-9fcc-63e4c2345e62",
   "metadata": {},
   "source": [
    "## Converting data to appropriate types"
   ]
  },
  {
   "cell_type": "markdown",
   "id": "85dd312e-0305-4039-9501-cf329cff1911",
   "metadata": {},
   "source": [
    "## Check for missing values"
   ]
  },
  {
   "cell_type": "code",
   "execution_count": 35,
   "id": "297e50cd-6572-40e0-9497-cd9e701cd39a",
   "metadata": {},
   "outputs": [
    {
     "data": {
      "text/plain": [
       "Year                       0\n",
       "Leading Cause              0\n",
       "Sex                        0\n",
       "Race Ethnicity             0\n",
       "Deaths                     0\n",
       "Death Rate                 0\n",
       "Age Adjusted Death Rate    0\n",
       "dtype: int64"
      ]
     },
     "execution_count": 35,
     "metadata": {},
     "output_type": "execute_result"
    }
   ],
   "source": [
    "raw.isnull().sum()"
   ]
  },
  {
   "cell_type": "markdown",
   "id": "c905eb15-c1a7-4c63-94a3-b70d4dc8c140",
   "metadata": {},
   "source": [
    "## Replace missing values with 0"
   ]
  },
  {
   "cell_type": "code",
   "execution_count": 36,
   "id": "6923b6eb-745e-494c-a188-14380dbcc7c3",
   "metadata": {},
   "outputs": [],
   "source": [
    "raw = raw.fillna(0)"
   ]
  },
  {
   "cell_type": "code",
   "execution_count": 34,
   "id": "7110348d-2fac-4dc7-927b-26ced0cf2be4",
   "metadata": {},
   "outputs": [
    {
     "data": {
      "text/plain": [
       "Year                       0\n",
       "Leading Cause              0\n",
       "Sex                        0\n",
       "Race Ethnicity             0\n",
       "Deaths                     0\n",
       "Death Rate                 0\n",
       "Age Adjusted Death Rate    0\n",
       "dtype: int64"
      ]
     },
     "execution_count": 34,
     "metadata": {},
     "output_type": "execute_result"
    }
   ],
   "source": [
    "raw.isnull().sum()"
   ]
  },
  {
   "cell_type": "markdown",
   "id": "6f4126e1-aad9-44b9-a013-c7dffe4c0fc2",
   "metadata": {},
   "source": [
    "## Write to CSV file"
   ]
  },
  {
   "cell_type": "code",
   "execution_count": 39,
   "id": "1838602a-9066-4a00-968c-0073dbea8f77",
   "metadata": {},
   "outputs": [],
   "source": [
    "raw.to_csv('NYC_leading_causes_of_death.csv', index=False)"
   ]
  },
  {
   "cell_type": "code",
   "execution_count": 40,
   "id": "a1bfd759-9efc-47d4-9c8a-be3d57c55368",
   "metadata": {},
   "outputs": [
    {
     "name": "stdout",
     "output_type": "stream",
     "text": [
      "EDA_nyc_leading_causes_of_deaths.ipynb\n",
      "NYC_leading_causes_of_death.csv\n",
      "New_York_City_Leading_Causes_of_Death copy.csv\n",
      "New_York_City_Leading_Causes_of_Death.csv\n",
      "README.md\n",
      "modified_nyc_deaths.csv\n",
      "modified_nyc_deaths_final.csv\n",
      "nyc-death-visualizer.py\n",
      "nyc_data_processing.py\n",
      "nyc_leading_causes_of_deaths_mingling.ipynb\n"
     ]
    }
   ],
   "source": [
    "! ls"
   ]
  },
  {
   "cell_type": "markdown",
   "id": "76b563fd-ea59-42c6-b202-5cd869833568",
   "metadata": {},
   "source": [
    "# Exploratory Data Analysis"
   ]
  },
  {
   "cell_type": "markdown",
   "id": "f7dd7117-add5-4417-879d-80947fc3edea",
   "metadata": {},
   "source": [
    "## Read data"
   ]
  },
  {
   "cell_type": "code",
   "execution_count": 58,
   "id": "7e018862-e701-4713-919e-6595052d6f8f",
   "metadata": {},
   "outputs": [],
   "source": [
    "df = pd.read_csv('NYC_leading_causes_of_death.csv')"
   ]
  },
  {
   "cell_type": "markdown",
   "id": "18b68a60-d602-4373-8139-021b1c108784",
   "metadata": {},
   "source": [
    "## Overview of data types of each columns in the dataframe"
   ]
  },
  {
   "cell_type": "code",
   "execution_count": 59,
   "id": "e7e8bf4e-c349-498e-853c-c23a8fbf5aab",
   "metadata": {},
   "outputs": [
    {
     "data": {
      "text/html": [
       "<div>\n",
       "<style scoped>\n",
       "    .dataframe tbody tr th:only-of-type {\n",
       "        vertical-align: middle;\n",
       "    }\n",
       "\n",
       "    .dataframe tbody tr th {\n",
       "        vertical-align: top;\n",
       "    }\n",
       "\n",
       "    .dataframe thead th {\n",
       "        text-align: right;\n",
       "    }\n",
       "</style>\n",
       "<table border=\"1\" class=\"dataframe\">\n",
       "  <thead>\n",
       "    <tr style=\"text-align: right;\">\n",
       "      <th></th>\n",
       "      <th>Year</th>\n",
       "      <th>Leading Cause</th>\n",
       "      <th>Sex</th>\n",
       "      <th>Race Ethnicity</th>\n",
       "      <th>Deaths</th>\n",
       "      <th>Death Rate</th>\n",
       "      <th>Age Adjusted Death Rate</th>\n",
       "    </tr>\n",
       "  </thead>\n",
       "  <tbody>\n",
       "    <tr>\n",
       "      <th>0</th>\n",
       "      <td>2019</td>\n",
       "      <td>Diseases of Heart (I00-I09, I11, I13, I20-I51)</td>\n",
       "      <td>Male</td>\n",
       "      <td>Hispanic</td>\n",
       "      <td>1603</td>\n",
       "      <td>136.8029917</td>\n",
       "      <td>176.783287</td>\n",
       "    </tr>\n",
       "    <tr>\n",
       "      <th>1</th>\n",
       "      <td>2019</td>\n",
       "      <td>Malignant Neoplasms (Cancer: C00-C97)</td>\n",
       "      <td>Male</td>\n",
       "      <td>Hispanic</td>\n",
       "      <td>1164</td>\n",
       "      <td>99.3379179</td>\n",
       "      <td>121.5817693</td>\n",
       "    </tr>\n",
       "    <tr>\n",
       "      <th>2</th>\n",
       "      <td>2019</td>\n",
       "      <td>Mental and Behavioral Disorders due to Acciden...</td>\n",
       "      <td>Male</td>\n",
       "      <td>Hispanic</td>\n",
       "      <td>423</td>\n",
       "      <td>36.09960418</td>\n",
       "      <td>35.70789583</td>\n",
       "    </tr>\n",
       "    <tr>\n",
       "      <th>3</th>\n",
       "      <td>2019</td>\n",
       "      <td>Diabetes Mellitus (E10-E14)</td>\n",
       "      <td>Male</td>\n",
       "      <td>Hispanic</td>\n",
       "      <td>245</td>\n",
       "      <td>20.9087542</td>\n",
       "      <td>25.40934387</td>\n",
       "    </tr>\n",
       "    <tr>\n",
       "      <th>4</th>\n",
       "      <td>2019</td>\n",
       "      <td>Influenza (Flu) and Pneumonia (J09-J18)</td>\n",
       "      <td>Male</td>\n",
       "      <td>Hispanic</td>\n",
       "      <td>182</td>\n",
       "      <td>15.5322174</td>\n",
       "      <td>19.85821025</td>\n",
       "    </tr>\n",
       "  </tbody>\n",
       "</table>\n",
       "</div>"
      ],
      "text/plain": [
       "   Year                                      Leading Cause   Sex  \\\n",
       "0  2019     Diseases of Heart (I00-I09, I11, I13, I20-I51)  Male   \n",
       "1  2019              Malignant Neoplasms (Cancer: C00-C97)  Male   \n",
       "2  2019  Mental and Behavioral Disorders due to Acciden...  Male   \n",
       "3  2019                        Diabetes Mellitus (E10-E14)  Male   \n",
       "4  2019            Influenza (Flu) and Pneumonia (J09-J18)  Male   \n",
       "\n",
       "  Race Ethnicity Deaths   Death Rate Age Adjusted Death Rate  \n",
       "0       Hispanic   1603  136.8029917              176.783287  \n",
       "1       Hispanic   1164   99.3379179             121.5817693  \n",
       "2       Hispanic    423  36.09960418             35.70789583  \n",
       "3       Hispanic    245   20.9087542             25.40934387  \n",
       "4       Hispanic    182   15.5322174             19.85821025  "
      ]
     },
     "execution_count": 59,
     "metadata": {},
     "output_type": "execute_result"
    }
   ],
   "source": [
    "df.head()"
   ]
  },
  {
   "cell_type": "code",
   "execution_count": 60,
   "id": "83701609-0e58-4e28-821e-610dbc2cf2d9",
   "metadata": {},
   "outputs": [
    {
     "data": {
      "text/plain": [
       "Year                        int64\n",
       "Leading Cause              object\n",
       "Sex                        object\n",
       "Race Ethnicity             object\n",
       "Deaths                     object\n",
       "Death Rate                 object\n",
       "Age Adjusted Death Rate    object\n",
       "dtype: object"
      ]
     },
     "execution_count": 60,
     "metadata": {},
     "output_type": "execute_result"
    }
   ],
   "source": [
    "df.dtypes"
   ]
  },
  {
   "cell_type": "markdown",
   "id": "7b5505c1-b7ec-4bd0-9a66-0c8ab5f62353",
   "metadata": {},
   "source": [
    "## Converting data types to appropriate types"
   ]
  },
  {
   "cell_type": "code",
   "execution_count": 61,
   "id": "79490201-2a19-48df-92ef-1a2b48d13d11",
   "metadata": {
    "collapsed": true,
    "jupyter": {
     "outputs_hidden": true
    },
    "tags": []
   },
   "outputs": [
    {
     "data": {
      "text/plain": [
       "Diseases of Heart (I00-I09, I11, I13, I20-I51)                                                                                       110\n",
       "Influenza (Flu) and Pneumonia (J09-J18)                                                                                              110\n",
       "All Other Causes                                                                                                                     110\n",
       "Malignant Neoplasms (Cancer: C00-C97)                                                                                                110\n",
       "Diabetes Mellitus (E10-E14)                                                                                                          106\n",
       "Cerebrovascular Disease (Stroke: I60-I69)                                                                                            103\n",
       "Chronic Lower Respiratory Diseases (J40-J47)                                                                                         100\n",
       "Essential Hypertension and Renal Diseases (I10, I12)                                                                                  88\n",
       "Accidents Except Drug Posioning (V01-X39, X43, X45-X59, Y85-Y86)                                                                      80\n",
       "Mental and Behavioral Disorders due to Accidental Poisoning and Other Psychoactive Substance Use (F11-F16, F18-F19, X40-X42, X44)     51\n",
       "Human Immunodeficiency Virus Disease (HIV: B20-B24)                                                                                   44\n",
       "Alzheimer's Disease (G30)                                                                                                             40\n",
       "Intentional Self-Harm (Suicide: X60-X84, Y87.0)                                                                                       38\n",
       "Chronic Liver Disease and Cirrhosis (K70, K73)                                                                                        29\n",
       "Certain Conditions originating in the Perinatal Period (P00-P96)                                                                      28\n",
       "Assault (Homicide: Y87.1, X85-Y09)                                                                                                    20\n",
       "Nephritis, Nephrotic Syndrome and Nephrisis (N00-N07, N17-N19, N25-N27)                                                               19\n",
       "Septicemia (A40-A41)                                                                                                                  16\n",
       "Accidents Except Drug Poisoning (V01-X39, X43, X45-X59, Y85-Y86)                                                                      13\n",
       "Congenital Malformations, Deformations, and Chromosomal Abnormalities (Q00-Q99)                                                       10\n",
       "Intentional Self-Harm (Suicide: U03, X60-X84, Y87.0)                                                                                   7\n",
       "Insitu or Benign / Uncertain Neoplasms (D00-D48)                                                                                       6\n",
       "Viral Hepatitis (B15-B19)                                                                                                              6\n",
       "Mental and Behavioral Disorders due to Use of Alcohol (F10)                                                                            6\n",
       "Aortic Aneurysm and Dissection (I71)                                                                                                   4\n",
       "Assault (Homicide: U01-U02, Y87.1, X85-Y09)                                                                                            3\n",
       "Chronic Liver Disease and Cirrhosis (K70, K73-K74)                                                                                     3\n",
       "Atherosclerosis (I70)                                                                                                                  3\n",
       "Cholelithiasis and Disorders of Gallbladder (K80-K82)                                                                                  2\n",
       "Complications of Medical and Surgical Care (Y40-Y84, Y88)                                                                              2\n",
       "Parkinson's Disease (G20)                                                                                                              2\n",
       "Anemias (D50-D64)                                                                                                                      1\n",
       "Peptic Ulcer (K25-K28)                                                                                                                 1\n",
       "Tuberculosis (A16-A19)                                                                                                                 1\n",
       "Name: Leading Cause, dtype: int64"
      ]
     },
     "execution_count": 61,
     "metadata": {},
     "output_type": "execute_result"
    }
   ],
   "source": [
    "df['Leading Cause'].value_counts()"
   ]
  },
  {
   "cell_type": "code",
   "execution_count": 62,
   "id": "28758441-010c-4a49-85f5-0eaa937d607d",
   "metadata": {},
   "outputs": [],
   "source": [
    "df['Leading Cause'] = df['Leading Cause'].astype(\"string\")"
   ]
  },
  {
   "cell_type": "code",
   "execution_count": 64,
   "id": "2ecb0383-da72-4c26-ba27-b75ba536663a",
   "metadata": {},
   "outputs": [
    {
     "data": {
      "text/plain": [
       "F         554\n",
       "M         540\n",
       "Female     90\n",
       "Male       88\n",
       "Name: Sex, dtype: int64"
      ]
     },
     "execution_count": 64,
     "metadata": {},
     "output_type": "execute_result"
    }
   ],
   "source": [
    "df['Sex'].value_counts()"
   ]
  },
  {
   "cell_type": "code",
   "execution_count": 65,
   "id": "72049cfb-a501-4602-a405-81aa5efd2a42",
   "metadata": {},
   "outputs": [],
   "source": [
    "df['Sex'] = df['Sex'].astype(\"string\")\n",
    "df['Sex'] = df['Sex'].replace({'M':'Male', 'F':'Female'})"
   ]
  },
  {
   "cell_type": "code",
   "execution_count": 66,
   "id": "4f72c365-3e92-47b0-b14d-a28d84f58474",
   "metadata": {},
   "outputs": [
    {
     "data": {
      "text/plain": [
       "Female    644\n",
       "Male      628\n",
       "Name: Sex, dtype: Int64"
      ]
     },
     "execution_count": 66,
     "metadata": {},
     "output_type": "execute_result"
    }
   ],
   "source": [
    "df['Sex'].value_counts()"
   ]
  },
  {
   "cell_type": "code",
   "execution_count": 67,
   "id": "7fd66ccc-e752-4bfb-bccd-257f419d3b83",
   "metadata": {},
   "outputs": [
    {
     "data": {
      "text/plain": [
       "Other Race/ Ethnicity         253\n",
       "Not Stated/Unknown            223\n",
       "Hispanic                      199\n",
       "Asian and Pacific Islander    199\n",
       "Black Non-Hispanic            178\n",
       "White Non-Hispanic            176\n",
       "Non-Hispanic White             22\n",
       "Non-Hispanic Black             22\n",
       "Name: Race Ethnicity, dtype: int64"
      ]
     },
     "execution_count": 67,
     "metadata": {},
     "output_type": "execute_result"
    }
   ],
   "source": [
    "df['Race Ethnicity'].value_counts()"
   ]
  },
  {
   "cell_type": "code",
   "execution_count": 71,
   "id": "b586869f-f6d7-4359-a015-ad948eed2960",
   "metadata": {},
   "outputs": [],
   "source": [
    "df['Race Ethnicity'] = df['Race Ethnicity'].astype(\"string\")\n",
    "df['Race Ethnicity'] = df['Race Ethnicity'].replace({'White Non-Hispanic':'Non-Hispanic White', 'Black Non-Hispanic':'Non-Hispanic Black'})"
   ]
  },
  {
   "cell_type": "code",
   "execution_count": 72,
   "id": "6fb20445-6e24-4d7b-be24-168d50bc321b",
   "metadata": {},
   "outputs": [
    {
     "data": {
      "text/plain": [
       "Other Race/ Ethnicity         253\n",
       "Not Stated/Unknown            223\n",
       "Non-Hispanic Black            200\n",
       "Hispanic                      199\n",
       "Asian and Pacific Islander    199\n",
       "Non-Hispanic White            198\n",
       "Name: Race Ethnicity, dtype: Int64"
      ]
     },
     "execution_count": 72,
     "metadata": {},
     "output_type": "execute_result"
    }
   ],
   "source": [
    "df['Race Ethnicity'].value_counts()"
   ]
  },
  {
   "cell_type": "code",
   "execution_count": 73,
   "id": "890e47ba-7d23-449f-80b0-334191931ef9",
   "metadata": {},
   "outputs": [
    {
     "data": {
      "text/plain": [
       ".       138\n",
       "5        35\n",
       "8        24\n",
       "6        22\n",
       "1        21\n",
       "       ... \n",
       "208       1\n",
       "1149      1\n",
       "451       1\n",
       "225       1\n",
       "1464      1\n",
       "Name: Deaths, Length: 505, dtype: int64"
      ]
     },
     "execution_count": 73,
     "metadata": {},
     "output_type": "execute_result"
    }
   ],
   "source": [
    "df['Deaths'].value_counts()"
   ]
  },
  {
   "cell_type": "code",
   "execution_count": 75,
   "id": "0190ece9-04d7-418d-b315-0761e4c17675",
   "metadata": {},
   "outputs": [],
   "source": [
    "# Since there is '.' in Deaths column, convert everything to string, replace '.' with '0', and covert the column to integer.\n",
    "df['Deaths'] = df['Deaths'].astype(\"string\")\n",
    "df['Deaths'] = df['Deaths'].replace({'.':'0'})\n",
    "df['Deaths'] = df['Deaths'].astype(int)"
   ]
  },
  {
   "cell_type": "code",
   "execution_count": 76,
   "id": "c0957ea8-49b6-40e5-b8a4-16b2cb9c431a",
   "metadata": {
    "collapsed": true,
    "jupyter": {
     "outputs_hidden": true
    },
    "tags": []
   },
   "outputs": [
    {
     "data": {
      "text/plain": [
       "0       138\n",
       "5        35\n",
       "8        24\n",
       "6        22\n",
       "1        21\n",
       "       ... \n",
       "208       1\n",
       "1149      1\n",
       "451       1\n",
       "225       1\n",
       "1464      1\n",
       "Name: Deaths, Length: 505, dtype: int64"
      ]
     },
     "execution_count": 76,
     "metadata": {},
     "output_type": "execute_result"
    }
   ],
   "source": [
    "df['Deaths'].value_counts()"
   ]
  },
  {
   "cell_type": "code",
   "execution_count": 84,
   "id": "402cd58c-5b8a-4266-a8b4-fe949a8d9e6d",
   "metadata": {
    "collapsed": true,
    "jupyter": {
     "outputs_hidden": true
    },
    "tags": []
   },
   "outputs": [
    {
     "data": {
      "text/plain": [
       ".        386\n",
       "0         67\n",
       "13         7\n",
       "17.3       7\n",
       "11.4       6\n",
       "        ... \n",
       "45.7       1\n",
       "438.3      1\n",
       "243.5      1\n",
       "91.6       1\n",
       "172.4      1\n",
       "Name: Death Rate, Length: 547, dtype: int64"
      ]
     },
     "execution_count": 84,
     "metadata": {},
     "output_type": "execute_result"
    }
   ],
   "source": [
    "df['Death Rate'].value_counts()"
   ]
  },
  {
   "cell_type": "code",
   "execution_count": 90,
   "id": "79c6e162-c5e8-4a16-bb7c-ed9149cdacde",
   "metadata": {},
   "outputs": [],
   "source": [
    "# Since there is '.' in Death Rate column, convert everything to string, replace '.' with '0', and covert the column to float.\n",
    "df['Death Rate'] = df['Death Rate'].astype(\"string\")\n",
    "df['Death Rate'] = df['Death Rate'].replace({'.':'0'})\n",
    "df['Death Rate'] = df['Death Rate'].astype(float)"
   ]
  },
  {
   "cell_type": "code",
   "execution_count": 91,
   "id": "e28a48d0-a744-4a50-9c5b-230de593b7c5",
   "metadata": {
    "tags": []
   },
   "outputs": [
    {
     "data": {
      "text/plain": [
       "0.0      453\n",
       "17.3       7\n",
       "13.0       7\n",
       "18.0       6\n",
       "5.8        6\n",
       "        ... \n",
       "45.7       1\n",
       "438.3      1\n",
       "243.5      1\n",
       "91.6       1\n",
       "172.4      1\n",
       "Name: Death Rate, Length: 546, dtype: int64"
      ]
     },
     "execution_count": 91,
     "metadata": {},
     "output_type": "execute_result"
    }
   ],
   "source": [
    "df['Death Rate'].value_counts()"
   ]
  },
  {
   "cell_type": "code",
   "execution_count": 92,
   "id": "b6caa959-f2a6-41e7-8d10-c98cca8d4eee",
   "metadata": {},
   "outputs": [
    {
     "data": {
      "text/plain": [
       "0.0      453\n",
       "17.9       6\n",
       "21.4       6\n",
       "6.3        6\n",
       "8.5        5\n",
       "        ... \n",
       "28.7       1\n",
       "26.8       1\n",
       "177.8      1\n",
       "146.4      1\n",
       "220.4      1\n",
       "Name: Age Adjusted Death Rate, Length: 538, dtype: int64"
      ]
     },
     "execution_count": 92,
     "metadata": {},
     "output_type": "execute_result"
    }
   ],
   "source": [
    "df['Age Adjusted Death Rate'].value_counts()"
   ]
  },
  {
   "cell_type": "code",
   "execution_count": 88,
   "id": "32c5e38b-d02f-4202-842b-4102efaf7894",
   "metadata": {},
   "outputs": [],
   "source": [
    "# Since there is '.' in Age Adjusted Death Rate column, convert everything to string, replace '.' with '0', and covert the column to float.\n",
    "df['Age Adjusted Death Rate'] = df['Age Adjusted Death Rate'].astype(\"string\")\n",
    "df['Age Adjusted Death Rate'] = df['Age Adjusted Death Rate'].replace({'.':'0'})\n",
    "df['Age Adjusted Death Rate'] = df['Age Adjusted Death Rate'].astype(float)"
   ]
  },
  {
   "cell_type": "code",
   "execution_count": 89,
   "id": "666ce97e-3322-4584-a059-0811276c3c0b",
   "metadata": {
    "collapsed": true,
    "jupyter": {
     "outputs_hidden": true
    },
    "tags": []
   },
   "outputs": [
    {
     "data": {
      "text/plain": [
       "0.0      453\n",
       "17.9       6\n",
       "21.4       6\n",
       "6.3        6\n",
       "8.5        5\n",
       "        ... \n",
       "28.7       1\n",
       "26.8       1\n",
       "177.8      1\n",
       "146.4      1\n",
       "220.4      1\n",
       "Name: Age Adjusted Death Rate, Length: 538, dtype: int64"
      ]
     },
     "execution_count": 89,
     "metadata": {},
     "output_type": "execute_result"
    }
   ],
   "source": [
    "df['Age Adjusted Death Rate'].value_counts()"
   ]
  },
  {
   "cell_type": "code",
   "execution_count": 93,
   "id": "7d8df7f0-1525-41b6-8531-dde222ac8743",
   "metadata": {},
   "outputs": [
    {
     "data": {
      "text/html": [
       "<div>\n",
       "<style scoped>\n",
       "    .dataframe tbody tr th:only-of-type {\n",
       "        vertical-align: middle;\n",
       "    }\n",
       "\n",
       "    .dataframe tbody tr th {\n",
       "        vertical-align: top;\n",
       "    }\n",
       "\n",
       "    .dataframe thead th {\n",
       "        text-align: right;\n",
       "    }\n",
       "</style>\n",
       "<table border=\"1\" class=\"dataframe\">\n",
       "  <thead>\n",
       "    <tr style=\"text-align: right;\">\n",
       "      <th></th>\n",
       "      <th>Year</th>\n",
       "      <th>Leading Cause</th>\n",
       "      <th>Sex</th>\n",
       "      <th>Race Ethnicity</th>\n",
       "      <th>Deaths</th>\n",
       "      <th>Death Rate</th>\n",
       "      <th>Age Adjusted Death Rate</th>\n",
       "    </tr>\n",
       "  </thead>\n",
       "  <tbody>\n",
       "    <tr>\n",
       "      <th>0</th>\n",
       "      <td>2019</td>\n",
       "      <td>Diseases of Heart (I00-I09, I11, I13, I20-I51)</td>\n",
       "      <td>Male</td>\n",
       "      <td>Hispanic</td>\n",
       "      <td>1603</td>\n",
       "      <td>136.802992</td>\n",
       "      <td>176.783287</td>\n",
       "    </tr>\n",
       "    <tr>\n",
       "      <th>1</th>\n",
       "      <td>2019</td>\n",
       "      <td>Malignant Neoplasms (Cancer: C00-C97)</td>\n",
       "      <td>Male</td>\n",
       "      <td>Hispanic</td>\n",
       "      <td>1164</td>\n",
       "      <td>99.337918</td>\n",
       "      <td>121.581769</td>\n",
       "    </tr>\n",
       "    <tr>\n",
       "      <th>2</th>\n",
       "      <td>2019</td>\n",
       "      <td>Mental and Behavioral Disorders due to Acciden...</td>\n",
       "      <td>Male</td>\n",
       "      <td>Hispanic</td>\n",
       "      <td>423</td>\n",
       "      <td>36.099604</td>\n",
       "      <td>35.707896</td>\n",
       "    </tr>\n",
       "    <tr>\n",
       "      <th>3</th>\n",
       "      <td>2019</td>\n",
       "      <td>Diabetes Mellitus (E10-E14)</td>\n",
       "      <td>Male</td>\n",
       "      <td>Hispanic</td>\n",
       "      <td>245</td>\n",
       "      <td>20.908754</td>\n",
       "      <td>25.409344</td>\n",
       "    </tr>\n",
       "    <tr>\n",
       "      <th>4</th>\n",
       "      <td>2019</td>\n",
       "      <td>Influenza (Flu) and Pneumonia (J09-J18)</td>\n",
       "      <td>Male</td>\n",
       "      <td>Hispanic</td>\n",
       "      <td>182</td>\n",
       "      <td>15.532217</td>\n",
       "      <td>19.858210</td>\n",
       "    </tr>\n",
       "  </tbody>\n",
       "</table>\n",
       "</div>"
      ],
      "text/plain": [
       "   Year                                      Leading Cause   Sex  \\\n",
       "0  2019     Diseases of Heart (I00-I09, I11, I13, I20-I51)  Male   \n",
       "1  2019              Malignant Neoplasms (Cancer: C00-C97)  Male   \n",
       "2  2019  Mental and Behavioral Disorders due to Acciden...  Male   \n",
       "3  2019                        Diabetes Mellitus (E10-E14)  Male   \n",
       "4  2019            Influenza (Flu) and Pneumonia (J09-J18)  Male   \n",
       "\n",
       "  Race Ethnicity  Deaths  Death Rate  Age Adjusted Death Rate  \n",
       "0       Hispanic    1603  136.802992               176.783287  \n",
       "1       Hispanic    1164   99.337918               121.581769  \n",
       "2       Hispanic     423   36.099604                35.707896  \n",
       "3       Hispanic     245   20.908754                25.409344  \n",
       "4       Hispanic     182   15.532217                19.858210  "
      ]
     },
     "execution_count": 93,
     "metadata": {},
     "output_type": "execute_result"
    }
   ],
   "source": [
    "df.head()"
   ]
  },
  {
   "cell_type": "markdown",
   "id": "fc408281-af06-4d55-adb8-5348f1a7f3ad",
   "metadata": {},
   "source": [
    "## Questions"
   ]
  },
  {
   "cell_type": "markdown",
   "id": "881b91af-858e-4844-ac86-c53700c925ee",
   "metadata": {},
   "source": [
    "### Conditional Selection\n",
    "In performing exploratory data analysis, it is important to be able to select subsets of data to perform analysis or comparisons."
   ]
  },
  {
   "cell_type": "markdown",
   "id": "3dabdb05-23bd-4b44-8173-82abf2b1ddeb",
   "metadata": {},
   "source": [
    "#### GroupBy() function"
   ]
  },
  {
   "cell_type": "markdown",
   "id": "ca7ba1bd-6cb2-4293-8970-f17b8958f12f",
   "metadata": {},
   "source": [
    "#### 1. What is the most common leading cause of deaths in NYC?\n",
    "Diseases of Heart"
   ]
  },
  {
   "cell_type": "code",
   "execution_count": 170,
   "id": "53fc932e-ad5c-42d0-8cdf-6c2a2728b766",
   "metadata": {},
   "outputs": [
    {
     "name": "stderr",
     "output_type": "stream",
     "text": [
      "/var/folders/df/gd51sgv15359w812mn99r76w0000gn/T/ipykernel_4272/291040739.py:1: FutureWarning: The default value of numeric_only in DataFrameGroupBy.sum is deprecated. In a future version, numeric_only will default to False. Either specify numeric_only or select only columns which should be valid for the function.\n",
      "  LC = df.groupby(\"Leading Cause\").sum()\n"
     ]
    }
   ],
   "source": [
    "LC = df.groupby(\"Leading Cause\").sum()"
   ]
  },
  {
   "cell_type": "code",
   "execution_count": 171,
   "id": "61a0704d-b2ae-4ad7-8f74-a8fca4f0f42d",
   "metadata": {},
   "outputs": [
    {
     "data": {
      "text/html": [
       "<div>\n",
       "<style scoped>\n",
       "    .dataframe tbody tr th:only-of-type {\n",
       "        vertical-align: middle;\n",
       "    }\n",
       "\n",
       "    .dataframe tbody tr th {\n",
       "        vertical-align: top;\n",
       "    }\n",
       "\n",
       "    .dataframe thead th {\n",
       "        text-align: right;\n",
       "    }\n",
       "</style>\n",
       "<table border=\"1\" class=\"dataframe\">\n",
       "  <thead>\n",
       "    <tr style=\"text-align: right;\">\n",
       "      <th></th>\n",
       "      <th>Year</th>\n",
       "      <th>Deaths</th>\n",
       "      <th>Death Rate</th>\n",
       "      <th>Age Adjusted Death Rate</th>\n",
       "    </tr>\n",
       "    <tr>\n",
       "      <th>Leading Cause</th>\n",
       "      <th></th>\n",
       "      <th></th>\n",
       "      <th></th>\n",
       "      <th></th>\n",
       "    </tr>\n",
       "  </thead>\n",
       "  <tbody>\n",
       "    <tr>\n",
       "      <th>Diseases of Heart (I00-I09, I11, I13, I20-I51)</th>\n",
       "      <td>221274</td>\n",
       "      <td>165372</td>\n",
       "      <td>14728.870675</td>\n",
       "      <td>14301.030896</td>\n",
       "    </tr>\n",
       "  </tbody>\n",
       "</table>\n",
       "</div>"
      ],
      "text/plain": [
       "                                                  Year  Deaths    Death Rate  \\\n",
       "Leading Cause                                                                  \n",
       "Diseases of Heart (I00-I09, I11, I13, I20-I51)  221274  165372  14728.870675   \n",
       "\n",
       "                                                Age Adjusted Death Rate  \n",
       "Leading Cause                                                            \n",
       "Diseases of Heart (I00-I09, I11, I13, I20-I51)             14301.030896  "
      ]
     },
     "execution_count": 171,
     "metadata": {},
     "output_type": "execute_result"
    }
   ],
   "source": [
    "LC[LC['Deaths'] == LC['Deaths'].max()]"
   ]
  },
  {
   "cell_type": "code",
   "execution_count": 164,
   "id": "9647868c-c265-4e93-b2df-35ee64ed578d",
   "metadata": {
    "tags": []
   },
   "outputs": [
    {
     "name": "stderr",
     "output_type": "stream",
     "text": [
      "/var/folders/df/gd51sgv15359w812mn99r76w0000gn/T/ipykernel_4272/2977993887.py:1: FutureWarning: The default value of numeric_only in DataFrameGroupBy.sum is deprecated. In a future version, numeric_only will default to False. Either specify numeric_only or select only columns which should be valid for the function.\n",
      "  df.groupby(\"Leading Cause\").sum().sort_values(by=\"Deaths\", ascending=False).head(1)\n"
     ]
    },
    {
     "data": {
      "text/html": [
       "<div>\n",
       "<style scoped>\n",
       "    .dataframe tbody tr th:only-of-type {\n",
       "        vertical-align: middle;\n",
       "    }\n",
       "\n",
       "    .dataframe tbody tr th {\n",
       "        vertical-align: top;\n",
       "    }\n",
       "\n",
       "    .dataframe thead th {\n",
       "        text-align: right;\n",
       "    }\n",
       "</style>\n",
       "<table border=\"1\" class=\"dataframe\">\n",
       "  <thead>\n",
       "    <tr style=\"text-align: right;\">\n",
       "      <th></th>\n",
       "      <th>Year</th>\n",
       "      <th>Deaths</th>\n",
       "      <th>Death Rate</th>\n",
       "      <th>Age Adjusted Death Rate</th>\n",
       "    </tr>\n",
       "    <tr>\n",
       "      <th>Leading Cause</th>\n",
       "      <th></th>\n",
       "      <th></th>\n",
       "      <th></th>\n",
       "      <th></th>\n",
       "    </tr>\n",
       "  </thead>\n",
       "  <tbody>\n",
       "    <tr>\n",
       "      <th>Diseases of Heart (I00-I09, I11, I13, I20-I51)</th>\n",
       "      <td>221274</td>\n",
       "      <td>165372</td>\n",
       "      <td>14728.870675</td>\n",
       "      <td>14301.030896</td>\n",
       "    </tr>\n",
       "  </tbody>\n",
       "</table>\n",
       "</div>"
      ],
      "text/plain": [
       "                                                  Year  Deaths    Death Rate  \\\n",
       "Leading Cause                                                                  \n",
       "Diseases of Heart (I00-I09, I11, I13, I20-I51)  221274  165372  14728.870675   \n",
       "\n",
       "                                                Age Adjusted Death Rate  \n",
       "Leading Cause                                                            \n",
       "Diseases of Heart (I00-I09, I11, I13, I20-I51)             14301.030896  "
      ]
     },
     "execution_count": 164,
     "metadata": {},
     "output_type": "execute_result"
    }
   ],
   "source": [
    "df.groupby(\"Leading Cause\").sum().sort_values(by=\"Deaths\", ascending=False).head(1)"
   ]
  },
  {
   "cell_type": "markdown",
   "id": "673f490d-af91-4e29-8a48-bda63eb63be1",
   "metadata": {},
   "source": [
    "#### 2. What is the most common leading cause of deaths in NYC in 2019?"
   ]
  },
  {
   "cell_type": "code",
   "execution_count": 182,
   "id": "d3a75beb-1dd1-41e0-b2eb-f4e974cf01b5",
   "metadata": {},
   "outputs": [
    {
     "name": "stderr",
     "output_type": "stream",
     "text": [
      "/var/folders/df/gd51sgv15359w812mn99r76w0000gn/T/ipykernel_4272/1586761423.py:1: FutureWarning: The default value of numeric_only in DataFrameGroupBy.sum is deprecated. In a future version, numeric_only will default to False. Either specify numeric_only or select only columns which should be valid for the function.\n",
      "  df[df[\"Year\"] == 2019].groupby(\"Leading Cause\").sum().sort_values(by=\"Deaths\", ascending=False).head(1)\n"
     ]
    },
    {
     "data": {
      "text/html": [
       "<div>\n",
       "<style scoped>\n",
       "    .dataframe tbody tr th:only-of-type {\n",
       "        vertical-align: middle;\n",
       "    }\n",
       "\n",
       "    .dataframe tbody tr th {\n",
       "        vertical-align: top;\n",
       "    }\n",
       "\n",
       "    .dataframe thead th {\n",
       "        text-align: right;\n",
       "    }\n",
       "</style>\n",
       "<table border=\"1\" class=\"dataframe\">\n",
       "  <thead>\n",
       "    <tr style=\"text-align: right;\">\n",
       "      <th></th>\n",
       "      <th>Year</th>\n",
       "      <th>Deaths</th>\n",
       "      <th>Death Rate</th>\n",
       "      <th>Age Adjusted Death Rate</th>\n",
       "    </tr>\n",
       "    <tr>\n",
       "      <th>Leading Cause</th>\n",
       "      <th></th>\n",
       "      <th></th>\n",
       "      <th></th>\n",
       "      <th></th>\n",
       "    </tr>\n",
       "  </thead>\n",
       "  <tbody>\n",
       "    <tr>\n",
       "      <th>Diseases of Heart (I00-I09, I11, I13, I20-I51)</th>\n",
       "      <td>28266</td>\n",
       "      <td>17821</td>\n",
       "      <td>1970.370675</td>\n",
       "      <td>1882.330896</td>\n",
       "    </tr>\n",
       "  </tbody>\n",
       "</table>\n",
       "</div>"
      ],
      "text/plain": [
       "                                                 Year  Deaths   Death Rate  \\\n",
       "Leading Cause                                                                \n",
       "Diseases of Heart (I00-I09, I11, I13, I20-I51)  28266   17821  1970.370675   \n",
       "\n",
       "                                                Age Adjusted Death Rate  \n",
       "Leading Cause                                                            \n",
       "Diseases of Heart (I00-I09, I11, I13, I20-I51)              1882.330896  "
      ]
     },
     "execution_count": 182,
     "metadata": {},
     "output_type": "execute_result"
    }
   ],
   "source": [
    "df[df[\"Year\"] == 2019].groupby(\"Leading Cause\").sum().sort_values(by=\"Deaths\", ascending=False).head(1)"
   ]
  },
  {
   "cell_type": "markdown",
   "id": "4d777c37-4b01-428e-b5ef-62a4d1e8fd81",
   "metadata": {},
   "source": [
    "#### 3. What is the leading cause of death for each gender in NYC?"
   ]
  },
  {
   "cell_type": "code",
   "execution_count": null,
   "id": "0d06aa38-39e9-4203-8eb5-13dddcf2a8ed",
   "metadata": {},
   "outputs": [],
   "source": []
  },
  {
   "cell_type": "code",
   "execution_count": null,
   "id": "d24de81d-0e9a-4425-aece-66dbb83ddeb8",
   "metadata": {},
   "outputs": [],
   "source": []
  },
  {
   "cell_type": "code",
   "execution_count": null,
   "id": "6ed7fefb-fcf8-4dc5-a8ea-666a2bbf6457",
   "metadata": {},
   "outputs": [],
   "source": []
  },
  {
   "cell_type": "code",
   "execution_count": null,
   "id": "8e62d9bb-ecf8-4e2b-b828-b3b2a21e3920",
   "metadata": {},
   "outputs": [],
   "source": []
  },
  {
   "cell_type": "markdown",
   "id": "a114e411-1efb-48af-9311-b4fdff9281f9",
   "metadata": {},
   "source": [
    "#### 4. What is the leading cause of death for each race and ethnicity in NYC?"
   ]
  },
  {
   "cell_type": "code",
   "execution_count": null,
   "id": "da03a290-a2c8-4897-81e0-3f96616a19b0",
   "metadata": {},
   "outputs": [
    {
     "name": "stderr",
     "output_type": "stream",
     "text": [
      "/var/folders/df/gd51sgv15359w812mn99r76w0000gn/T/ipykernel_4272/3651007367.py:1: FutureWarning: The default value of numeric_only in DataFrameGroupBy.sum is deprecated. In a future version, numeric_only will default to False. Either specify numeric_only or select only columns which should be valid for the function.\n",
      "  df.groupby([\"Leading Cause\", \"Race Ethnicity\"]).sum()\n"
     ]
    },
    {
     "data": {
      "text/html": [
       "<div>\n",
       "<style scoped>\n",
       "    .dataframe tbody tr th:only-of-type {\n",
       "        vertical-align: middle;\n",
       "    }\n",
       "\n",
       "    .dataframe tbody tr th {\n",
       "        vertical-align: top;\n",
       "    }\n",
       "\n",
       "    .dataframe thead th {\n",
       "        text-align: right;\n",
       "    }\n",
       "</style>\n",
       "<table border=\"1\" class=\"dataframe\">\n",
       "  <thead>\n",
       "    <tr style=\"text-align: right;\">\n",
       "      <th></th>\n",
       "      <th></th>\n",
       "      <th>Year</th>\n",
       "      <th>Deaths</th>\n",
       "      <th>Death Rate</th>\n",
       "      <th>Age Adjusted Death Rate</th>\n",
       "    </tr>\n",
       "    <tr>\n",
       "      <th>Leading Cause</th>\n",
       "      <th>Race Ethnicity</th>\n",
       "      <th></th>\n",
       "      <th></th>\n",
       "      <th></th>\n",
       "      <th></th>\n",
       "    </tr>\n",
       "  </thead>\n",
       "  <tbody>\n",
       "    <tr>\n",
       "      <th rowspan=\"5\" valign=\"top\">Accidents Except Drug Poisoning (V01-X39, X43,...</th>\n",
       "      <th>Asian and Pacific Islander</th>\n",
       "      <td>4038</td>\n",
       "      <td>92</td>\n",
       "      <td>15.050191</td>\n",
       "      <td>13.763041</td>\n",
       "    </tr>\n",
       "    <tr>\n",
       "      <th>Hispanic</th>\n",
       "      <td>4038</td>\n",
       "      <td>272</td>\n",
       "      <td>22.678009</td>\n",
       "      <td>23.430633</td>\n",
       "    </tr>\n",
       "    <tr>\n",
       "      <th>Non-Hispanic Black</th>\n",
       "      <td>2019</td>\n",
       "      <td>150</td>\n",
       "      <td>18.100115</td>\n",
       "      <td>17.776877</td>\n",
       "    </tr>\n",
       "    <tr>\n",
       "      <th>Non-Hispanic White</th>\n",
       "      <td>4038</td>\n",
       "      <td>439</td>\n",
       "      <td>32.930777</td>\n",
       "      <td>23.734746</td>\n",
       "    </tr>\n",
       "    <tr>\n",
       "      <th>Not Stated/Unknown</th>\n",
       "      <td>4038</td>\n",
       "      <td>24</td>\n",
       "      <td>28.398522</td>\n",
       "      <td>41.369516</td>\n",
       "    </tr>\n",
       "    <tr>\n",
       "      <th>...</th>\n",
       "      <th>...</th>\n",
       "      <td>...</td>\n",
       "      <td>...</td>\n",
       "      <td>...</td>\n",
       "      <td>...</td>\n",
       "    </tr>\n",
       "    <tr>\n",
       "      <th>Septicemia (A40-A41)</th>\n",
       "      <th>Other Race/ Ethnicity</th>\n",
       "      <td>10081</td>\n",
       "      <td>10</td>\n",
       "      <td>0.000000</td>\n",
       "      <td>0.000000</td>\n",
       "    </tr>\n",
       "    <tr>\n",
       "      <th>Tuberculosis (A16-A19)</th>\n",
       "      <th>Not Stated/Unknown</th>\n",
       "      <td>2011</td>\n",
       "      <td>0</td>\n",
       "      <td>0.000000</td>\n",
       "      <td>0.000000</td>\n",
       "    </tr>\n",
       "    <tr>\n",
       "      <th rowspan=\"3\" valign=\"top\">Viral Hepatitis (B15-B19)</th>\n",
       "      <th>Asian and Pacific Islander</th>\n",
       "      <td>2013</td>\n",
       "      <td>15</td>\n",
       "      <td>2.500000</td>\n",
       "      <td>2.500000</td>\n",
       "    </tr>\n",
       "    <tr>\n",
       "      <th>Not Stated/Unknown</th>\n",
       "      <td>8039</td>\n",
       "      <td>6</td>\n",
       "      <td>0.000000</td>\n",
       "      <td>0.000000</td>\n",
       "    </tr>\n",
       "    <tr>\n",
       "      <th>Other Race/ Ethnicity</th>\n",
       "      <td>2019</td>\n",
       "      <td>1</td>\n",
       "      <td>0.000000</td>\n",
       "      <td>0.000000</td>\n",
       "    </tr>\n",
       "  </tbody>\n",
       "</table>\n",
       "<p>131 rows × 4 columns</p>\n",
       "</div>"
      ],
      "text/plain": [
       "                                                                               Year  \\\n",
       "Leading Cause                                     Race Ethnicity                      \n",
       "Accidents Except Drug Poisoning (V01-X39, X43,... Asian and Pacific Islander   4038   \n",
       "                                                  Hispanic                     4038   \n",
       "                                                  Non-Hispanic Black           2019   \n",
       "                                                  Non-Hispanic White           4038   \n",
       "                                                  Not Stated/Unknown           4038   \n",
       "...                                                                             ...   \n",
       "Septicemia (A40-A41)                              Other Race/ Ethnicity       10081   \n",
       "Tuberculosis (A16-A19)                            Not Stated/Unknown           2011   \n",
       "Viral Hepatitis (B15-B19)                         Asian and Pacific Islander   2013   \n",
       "                                                  Not Stated/Unknown           8039   \n",
       "                                                  Other Race/ Ethnicity        2019   \n",
       "\n",
       "                                                                              Deaths  \\\n",
       "Leading Cause                                     Race Ethnicity                       \n",
       "Accidents Except Drug Poisoning (V01-X39, X43,... Asian and Pacific Islander      92   \n",
       "                                                  Hispanic                       272   \n",
       "                                                  Non-Hispanic Black             150   \n",
       "                                                  Non-Hispanic White             439   \n",
       "                                                  Not Stated/Unknown              24   \n",
       "...                                                                              ...   \n",
       "Septicemia (A40-A41)                              Other Race/ Ethnicity           10   \n",
       "Tuberculosis (A16-A19)                            Not Stated/Unknown               0   \n",
       "Viral Hepatitis (B15-B19)                         Asian and Pacific Islander      15   \n",
       "                                                  Not Stated/Unknown               6   \n",
       "                                                  Other Race/ Ethnicity            1   \n",
       "\n",
       "                                                                              Death Rate  \\\n",
       "Leading Cause                                     Race Ethnicity                           \n",
       "Accidents Except Drug Poisoning (V01-X39, X43,... Asian and Pacific Islander   15.050191   \n",
       "                                                  Hispanic                     22.678009   \n",
       "                                                  Non-Hispanic Black           18.100115   \n",
       "                                                  Non-Hispanic White           32.930777   \n",
       "                                                  Not Stated/Unknown           28.398522   \n",
       "...                                                                                  ...   \n",
       "Septicemia (A40-A41)                              Other Race/ Ethnicity         0.000000   \n",
       "Tuberculosis (A16-A19)                            Not Stated/Unknown            0.000000   \n",
       "Viral Hepatitis (B15-B19)                         Asian and Pacific Islander    2.500000   \n",
       "                                                  Not Stated/Unknown            0.000000   \n",
       "                                                  Other Race/ Ethnicity         0.000000   \n",
       "\n",
       "                                                                              Age Adjusted Death Rate  \n",
       "Leading Cause                                     Race Ethnicity                                       \n",
       "Accidents Except Drug Poisoning (V01-X39, X43,... Asian and Pacific Islander                13.763041  \n",
       "                                                  Hispanic                                  23.430633  \n",
       "                                                  Non-Hispanic Black                        17.776877  \n",
       "                                                  Non-Hispanic White                        23.734746  \n",
       "                                                  Not Stated/Unknown                        41.369516  \n",
       "...                                                                                               ...  \n",
       "Septicemia (A40-A41)                              Other Race/ Ethnicity                      0.000000  \n",
       "Tuberculosis (A16-A19)                            Not Stated/Unknown                         0.000000  \n",
       "Viral Hepatitis (B15-B19)                         Asian and Pacific Islander                 2.500000  \n",
       "                                                  Not Stated/Unknown                         0.000000  \n",
       "                                                  Other Race/ Ethnicity                      0.000000  \n",
       "\n",
       "[131 rows x 4 columns]"
      ]
     },
     "execution_count": 181,
     "metadata": {},
     "output_type": "execute_result"
    }
   ],
   "source": [
    "df.groupby([\"Leading Cause\", \"Race Ethnicity\"]).sum()"
   ]
  },
  {
   "cell_type": "code",
   "execution_count": null,
   "id": "102afa0a-bb93-4bc6-93dc-7f5ae9446851",
   "metadata": {},
   "outputs": [],
   "source": []
  },
  {
   "cell_type": "code",
   "execution_count": null,
   "id": "5355f09c-f78e-400f-b792-21f9cbba3d8b",
   "metadata": {},
   "outputs": [],
   "source": []
  },
  {
   "cell_type": "code",
   "execution_count": 178,
   "id": "140dc6c2-98f8-4376-a452-a4374c132b34",
   "metadata": {},
   "outputs": [
    {
     "name": "stdout",
     "output_type": "stream",
     "text": [
      "Hispanic\n",
      "Asian and Pacific Islander\n",
      "Non-Hispanic White\n",
      "Non-Hispanic Black\n",
      "Other Race/ Ethnicity\n",
      "Not Stated/Unknown\n"
     ]
    }
   ],
   "source": [
    "for i in df[\"Race Ethnicity\"].unique():\n",
    "    print(i)"
   ]
  },
  {
   "cell_type": "code",
   "execution_count": 163,
   "id": "5b39633e-c4c3-448c-a397-80eeef6f32b6",
   "metadata": {},
   "outputs": [
    {
     "data": {
      "text/html": [
       "<div>\n",
       "<style scoped>\n",
       "    .dataframe tbody tr th:only-of-type {\n",
       "        vertical-align: middle;\n",
       "    }\n",
       "\n",
       "    .dataframe tbody tr th {\n",
       "        vertical-align: top;\n",
       "    }\n",
       "\n",
       "    .dataframe thead th {\n",
       "        text-align: right;\n",
       "    }\n",
       "</style>\n",
       "<table border=\"1\" class=\"dataframe\">\n",
       "  <thead>\n",
       "    <tr style=\"text-align: right;\">\n",
       "      <th></th>\n",
       "      <th>Year</th>\n",
       "      <th>Leading Cause</th>\n",
       "      <th>Sex</th>\n",
       "      <th>Race Ethnicity</th>\n",
       "      <th>Deaths</th>\n",
       "      <th>Death Rate</th>\n",
       "      <th>Age Adjusted Death Rate</th>\n",
       "    </tr>\n",
       "  </thead>\n",
       "  <tbody>\n",
       "    <tr>\n",
       "      <th>0</th>\n",
       "      <td>2019</td>\n",
       "      <td>Diseases of Heart (I00-I09, I11, I13, I20-I51)</td>\n",
       "      <td>Male</td>\n",
       "      <td>Hispanic</td>\n",
       "      <td>1603</td>\n",
       "      <td>136.802992</td>\n",
       "      <td>176.783287</td>\n",
       "    </tr>\n",
       "    <tr>\n",
       "      <th>1</th>\n",
       "      <td>2019</td>\n",
       "      <td>Malignant Neoplasms (Cancer: C00-C97)</td>\n",
       "      <td>Male</td>\n",
       "      <td>Hispanic</td>\n",
       "      <td>1164</td>\n",
       "      <td>99.337918</td>\n",
       "      <td>121.581769</td>\n",
       "    </tr>\n",
       "    <tr>\n",
       "      <th>2</th>\n",
       "      <td>2019</td>\n",
       "      <td>Mental and Behavioral Disorders due to Acciden...</td>\n",
       "      <td>Male</td>\n",
       "      <td>Hispanic</td>\n",
       "      <td>423</td>\n",
       "      <td>36.099604</td>\n",
       "      <td>35.707896</td>\n",
       "    </tr>\n",
       "    <tr>\n",
       "      <th>3</th>\n",
       "      <td>2019</td>\n",
       "      <td>Diabetes Mellitus (E10-E14)</td>\n",
       "      <td>Male</td>\n",
       "      <td>Hispanic</td>\n",
       "      <td>245</td>\n",
       "      <td>20.908754</td>\n",
       "      <td>25.409344</td>\n",
       "    </tr>\n",
       "    <tr>\n",
       "      <th>4</th>\n",
       "      <td>2019</td>\n",
       "      <td>Influenza (Flu) and Pneumonia (J09-J18)</td>\n",
       "      <td>Male</td>\n",
       "      <td>Hispanic</td>\n",
       "      <td>182</td>\n",
       "      <td>15.532217</td>\n",
       "      <td>19.858210</td>\n",
       "    </tr>\n",
       "  </tbody>\n",
       "</table>\n",
       "</div>"
      ],
      "text/plain": [
       "   Year                                      Leading Cause   Sex  \\\n",
       "0  2019     Diseases of Heart (I00-I09, I11, I13, I20-I51)  Male   \n",
       "1  2019              Malignant Neoplasms (Cancer: C00-C97)  Male   \n",
       "2  2019  Mental and Behavioral Disorders due to Acciden...  Male   \n",
       "3  2019                        Diabetes Mellitus (E10-E14)  Male   \n",
       "4  2019            Influenza (Flu) and Pneumonia (J09-J18)  Male   \n",
       "\n",
       "  Race Ethnicity  Deaths  Death Rate  Age Adjusted Death Rate  \n",
       "0       Hispanic    1603  136.802992               176.783287  \n",
       "1       Hispanic    1164   99.337918               121.581769  \n",
       "2       Hispanic     423   36.099604                35.707896  \n",
       "3       Hispanic     245   20.908754                25.409344  \n",
       "4       Hispanic     182   15.532217                19.858210  "
      ]
     },
     "execution_count": 163,
     "metadata": {},
     "output_type": "execute_result"
    }
   ],
   "source": [
    "df.head()"
   ]
  },
  {
   "cell_type": "code",
   "execution_count": null,
   "id": "5074500c-99de-41fd-b3fc-ab108b2fadf9",
   "metadata": {},
   "outputs": [],
   "source": []
  },
  {
   "cell_type": "markdown",
   "id": "f1cc4cc6-dc18-4386-900c-731854a50e74",
   "metadata": {},
   "source": [
    "#### Histograms\n",
    "Try to answer this question by showing some histogram plots. So, to make it a bit easier, let's create a subset dataframe."
   ]
  },
  {
   "cell_type": "code",
   "execution_count": null,
   "id": "33a4852f-82cd-4e89-9e3f-2dc9f3133686",
   "metadata": {},
   "outputs": [],
   "source": []
  },
  {
   "cell_type": "code",
   "execution_count": null,
   "id": "27561141-ff6c-4228-ad34-23ca6adea5f3",
   "metadata": {},
   "outputs": [],
   "source": []
  },
  {
   "cell_type": "code",
   "execution_count": null,
   "id": "831add5f-85be-46c5-b560-aed538fa8f80",
   "metadata": {},
   "outputs": [],
   "source": []
  }
 ],
 "metadata": {
  "kernelspec": {
   "display_name": "Python 3 (ipykernel)",
   "language": "python",
   "name": "python3"
  },
  "language_info": {
   "codemirror_mode": {
    "name": "ipython",
    "version": 3
   },
   "file_extension": ".py",
   "mimetype": "text/x-python",
   "name": "python",
   "nbconvert_exporter": "python",
   "pygments_lexer": "ipython3",
   "version": "3.9.12"
  }
 },
 "nbformat": 4,
 "nbformat_minor": 5
}
